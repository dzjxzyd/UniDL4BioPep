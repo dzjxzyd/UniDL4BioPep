{
  "nbformat": 4,
  "nbformat_minor": 0,
  "metadata": {
    "colab": {
      "provenance": []
    },
    "kernelspec": {
      "name": "python3",
      "display_name": "Python 3"
    },
    "language_info": {
      "name": "python"
    }
  },
  "cells": [
    {
      "cell_type": "markdown",
      "source": [
        "### requirements for the following codings\n"
      ],
      "metadata": {
        "id": "95NTckuFZZzm"
      }
    },
    {
      "cell_type": "code",
      "source": [
        "### packages required \n",
        "!pip install fair-esm \n",
        "!pip install torch\n",
        "!pip install tensorflow\n",
        "!pip install sklearn"
      ],
      "metadata": {
        "id": "UO71IBS6ZgZV",
        "colab": {
          "base_uri": "https://localhost:8080/"
        },
        "outputId": "aa6ac0b2-176a-4ecc-963c-1f7ba1f01a70"
      },
      "execution_count": 1,
      "outputs": [
        {
          "output_type": "stream",
          "name": "stdout",
          "text": [
            "Looking in indexes: https://pypi.org/simple, https://us-python.pkg.dev/colab-wheels/public/simple/\n",
            "Collecting fair-esm\n",
            "  Downloading fair_esm-2.0.0-py3-none-any.whl (93 kB)\n",
            "\u001b[2K     \u001b[90m━━━━━━━━━━━━━━━━━━━━━━━━━━━━━━━━━━━━━━━━\u001b[0m \u001b[32m93.1/93.1 KB\u001b[0m \u001b[31m2.8 MB/s\u001b[0m eta \u001b[36m0:00:00\u001b[0m\n",
            "\u001b[?25hInstalling collected packages: fair-esm\n",
            "Successfully installed fair-esm-2.0.0\n",
            "Looking in indexes: https://pypi.org/simple, https://us-python.pkg.dev/colab-wheels/public/simple/\n",
            "Requirement already satisfied: torch in /usr/local/lib/python3.8/dist-packages (1.13.1+cu116)\n",
            "Requirement already satisfied: typing-extensions in /usr/local/lib/python3.8/dist-packages (from torch) (4.4.0)\n",
            "Looking in indexes: https://pypi.org/simple, https://us-python.pkg.dev/colab-wheels/public/simple/\n",
            "Requirement already satisfied: tensorflow in /usr/local/lib/python3.8/dist-packages (2.11.0)\n",
            "Requirement already satisfied: google-pasta>=0.1.1 in /usr/local/lib/python3.8/dist-packages (from tensorflow) (0.2.0)\n",
            "Requirement already satisfied: typing-extensions>=3.6.6 in /usr/local/lib/python3.8/dist-packages (from tensorflow) (4.4.0)\n",
            "Requirement already satisfied: absl-py>=1.0.0 in /usr/local/lib/python3.8/dist-packages (from tensorflow) (1.4.0)\n",
            "Requirement already satisfied: numpy>=1.20 in /usr/local/lib/python3.8/dist-packages (from tensorflow) (1.21.6)\n",
            "Requirement already satisfied: grpcio<2.0,>=1.24.3 in /usr/local/lib/python3.8/dist-packages (from tensorflow) (1.51.1)\n",
            "Requirement already satisfied: opt-einsum>=2.3.2 in /usr/local/lib/python3.8/dist-packages (from tensorflow) (3.3.0)\n",
            "Requirement already satisfied: flatbuffers>=2.0 in /usr/local/lib/python3.8/dist-packages (from tensorflow) (23.1.21)\n",
            "Requirement already satisfied: libclang>=13.0.0 in /usr/local/lib/python3.8/dist-packages (from tensorflow) (15.0.6.1)\n",
            "Requirement already satisfied: protobuf<3.20,>=3.9.2 in /usr/local/lib/python3.8/dist-packages (from tensorflow) (3.19.6)\n",
            "Requirement already satisfied: wrapt>=1.11.0 in /usr/local/lib/python3.8/dist-packages (from tensorflow) (1.14.1)\n",
            "Requirement already satisfied: gast<=0.4.0,>=0.2.1 in /usr/local/lib/python3.8/dist-packages (from tensorflow) (0.4.0)\n",
            "Requirement already satisfied: astunparse>=1.6.0 in /usr/local/lib/python3.8/dist-packages (from tensorflow) (1.6.3)\n",
            "Requirement already satisfied: h5py>=2.9.0 in /usr/local/lib/python3.8/dist-packages (from tensorflow) (3.1.0)\n",
            "Requirement already satisfied: tensorflow-io-gcs-filesystem>=0.23.1 in /usr/local/lib/python3.8/dist-packages (from tensorflow) (0.30.0)\n",
            "Requirement already satisfied: packaging in /usr/local/lib/python3.8/dist-packages (from tensorflow) (23.0)\n",
            "Requirement already satisfied: keras<2.12,>=2.11.0 in /usr/local/lib/python3.8/dist-packages (from tensorflow) (2.11.0)\n",
            "Requirement already satisfied: tensorflow-estimator<2.12,>=2.11.0 in /usr/local/lib/python3.8/dist-packages (from tensorflow) (2.11.0)\n",
            "Requirement already satisfied: six>=1.12.0 in /usr/local/lib/python3.8/dist-packages (from tensorflow) (1.15.0)\n",
            "Requirement already satisfied: termcolor>=1.1.0 in /usr/local/lib/python3.8/dist-packages (from tensorflow) (2.2.0)\n",
            "Requirement already satisfied: tensorboard<2.12,>=2.11 in /usr/local/lib/python3.8/dist-packages (from tensorflow) (2.11.2)\n",
            "Requirement already satisfied: setuptools in /usr/local/lib/python3.8/dist-packages (from tensorflow) (57.4.0)\n",
            "Requirement already satisfied: wheel<1.0,>=0.23.0 in /usr/local/lib/python3.8/dist-packages (from astunparse>=1.6.0->tensorflow) (0.38.4)\n",
            "Requirement already satisfied: markdown>=2.6.8 in /usr/local/lib/python3.8/dist-packages (from tensorboard<2.12,>=2.11->tensorflow) (3.4.1)\n",
            "Requirement already satisfied: google-auth-oauthlib<0.5,>=0.4.1 in /usr/local/lib/python3.8/dist-packages (from tensorboard<2.12,>=2.11->tensorflow) (0.4.6)\n",
            "Requirement already satisfied: tensorboard-plugin-wit>=1.6.0 in /usr/local/lib/python3.8/dist-packages (from tensorboard<2.12,>=2.11->tensorflow) (1.8.1)\n",
            "Requirement already satisfied: requests<3,>=2.21.0 in /usr/local/lib/python3.8/dist-packages (from tensorboard<2.12,>=2.11->tensorflow) (2.25.1)\n",
            "Requirement already satisfied: werkzeug>=1.0.1 in /usr/local/lib/python3.8/dist-packages (from tensorboard<2.12,>=2.11->tensorflow) (1.0.1)\n",
            "Requirement already satisfied: tensorboard-data-server<0.7.0,>=0.6.0 in /usr/local/lib/python3.8/dist-packages (from tensorboard<2.12,>=2.11->tensorflow) (0.6.1)\n",
            "Requirement already satisfied: google-auth<3,>=1.6.3 in /usr/local/lib/python3.8/dist-packages (from tensorboard<2.12,>=2.11->tensorflow) (2.16.0)\n",
            "Requirement already satisfied: cachetools<6.0,>=2.0.0 in /usr/local/lib/python3.8/dist-packages (from google-auth<3,>=1.6.3->tensorboard<2.12,>=2.11->tensorflow) (5.3.0)\n",
            "Requirement already satisfied: pyasn1-modules>=0.2.1 in /usr/local/lib/python3.8/dist-packages (from google-auth<3,>=1.6.3->tensorboard<2.12,>=2.11->tensorflow) (0.2.8)\n",
            "Requirement already satisfied: rsa<5,>=3.1.4 in /usr/local/lib/python3.8/dist-packages (from google-auth<3,>=1.6.3->tensorboard<2.12,>=2.11->tensorflow) (4.9)\n",
            "Requirement already satisfied: requests-oauthlib>=0.7.0 in /usr/local/lib/python3.8/dist-packages (from google-auth-oauthlib<0.5,>=0.4.1->tensorboard<2.12,>=2.11->tensorflow) (1.3.1)\n",
            "Requirement already satisfied: importlib-metadata>=4.4 in /usr/local/lib/python3.8/dist-packages (from markdown>=2.6.8->tensorboard<2.12,>=2.11->tensorflow) (6.0.0)\n",
            "Requirement already satisfied: urllib3<1.27,>=1.21.1 in /usr/local/lib/python3.8/dist-packages (from requests<3,>=2.21.0->tensorboard<2.12,>=2.11->tensorflow) (1.24.3)\n",
            "Requirement already satisfied: idna<3,>=2.5 in /usr/local/lib/python3.8/dist-packages (from requests<3,>=2.21.0->tensorboard<2.12,>=2.11->tensorflow) (2.10)\n",
            "Requirement already satisfied: certifi>=2017.4.17 in /usr/local/lib/python3.8/dist-packages (from requests<3,>=2.21.0->tensorboard<2.12,>=2.11->tensorflow) (2022.12.7)\n",
            "Requirement already satisfied: chardet<5,>=3.0.2 in /usr/local/lib/python3.8/dist-packages (from requests<3,>=2.21.0->tensorboard<2.12,>=2.11->tensorflow) (4.0.0)\n",
            "Requirement already satisfied: zipp>=0.5 in /usr/local/lib/python3.8/dist-packages (from importlib-metadata>=4.4->markdown>=2.6.8->tensorboard<2.12,>=2.11->tensorflow) (3.12.1)\n",
            "Requirement already satisfied: pyasn1<0.5.0,>=0.4.6 in /usr/local/lib/python3.8/dist-packages (from pyasn1-modules>=0.2.1->google-auth<3,>=1.6.3->tensorboard<2.12,>=2.11->tensorflow) (0.4.8)\n",
            "Requirement already satisfied: oauthlib>=3.0.0 in /usr/local/lib/python3.8/dist-packages (from requests-oauthlib>=0.7.0->google-auth-oauthlib<0.5,>=0.4.1->tensorboard<2.12,>=2.11->tensorflow) (3.2.2)\n",
            "Looking in indexes: https://pypi.org/simple, https://us-python.pkg.dev/colab-wheels/public/simple/\n",
            "Collecting sklearn\n",
            "  Downloading sklearn-0.0.post1.tar.gz (3.6 kB)\n",
            "  Preparing metadata (setup.py) ... \u001b[?25l\u001b[?25hdone\n",
            "Building wheels for collected packages: sklearn\n",
            "  Building wheel for sklearn (setup.py) ... \u001b[?25l\u001b[?25hdone\n",
            "  Created wheel for sklearn: filename=sklearn-0.0.post1-py3-none-any.whl size=2344 sha256=14f1606bf5e4c94adbf89a940aa66a792673a4323cb3fc343e8c25b62451a7d8\n",
            "  Stored in directory: /root/.cache/pip/wheels/14/25/f7/1cc0956978ae479e75140219088deb7a36f60459df242b1a72\n",
            "Successfully built sklearn\n",
            "Installing collected packages: sklearn\n",
            "Successfully installed sklearn-0.0.post1\n"
          ]
        }
      ]
    },
    {
      "cell_type": "markdown",
      "source": [
        "### peptide embeddings with esm2_t6_8M_UR50D pretrained models\n",
        "6 layers, 8M parameters, dataset: UR50/D 2021_04, embedding dimension: 320\n",
        "mode download URL: https://dl.fbaipublicfiles.com/fair-esm/models/esm2_t6_8M_UR50D.pt"
      ],
      "metadata": {
        "id": "m91cA0H5w_eY"
      }
    },
    {
      "cell_type": "code",
      "source": [
        "def esm_embeddings(peptide_sequence_list):\n",
        "  # NOTICE: ESM for embeddings is quite RAM usage, if your sequence is too long, \n",
        "  #         or you have too many sequences for transformation in a single converting, \n",
        "  #         you conputer might automatically kill the job.\n",
        "  import torch\n",
        "  import esm\n",
        "  import collections\n",
        "  # load the model\n",
        "  # NOTICE: if the model was not downloaded in your local environment, it will automatically download it.\n",
        "  model, alphabet = esm.pretrained.esm2_t6_8M_UR50D()\n",
        "  batch_converter = alphabet.get_batch_converter()\n",
        "  model.eval()  # disables dropout for deterministic results\n",
        "\n",
        "  # load the peptide sequence list into the bach_converter\n",
        "  batch_labels, batch_strs, batch_tokens = batch_converter(peptide_sequence_list)\n",
        "  batch_lens = (batch_tokens != alphabet.padding_idx).sum(1)\n",
        "  ## batch tokens are the embedding results of the whole data set\n",
        "\n",
        "  # Extract per-residue representations (on CPU)\n",
        "  with torch.no_grad():\n",
        "      # Here we export the last layer of the EMS model output as the representation of the peptides\n",
        "      # model'esm2_t6_8M_UR50D' only has 6 layers, and therefore repr_layers parameters is equal to 6\n",
        "      results = model(batch_tokens, repr_layers=[6], return_contacts=True)  \n",
        "  token_representations = results[\"representations\"][6]\n",
        "\n",
        "  # Generate per-sequence representations via averaging\n",
        "  # NOTE: token 0 is always a beginning-of-sequence token, so the first residue is token 1.\n",
        "  sequence_representations = []\n",
        "  for i, tokens_len in enumerate(batch_lens):\n",
        "      sequence_representations.append(token_representations[i, 1 : tokens_len - 1].mean(0))\n",
        "  # save dataset\n",
        "  # sequence_representations is a list and each element is a tensor\n",
        "  embeddings_results = collections.defaultdict(list)\n",
        "  for i in range(len(sequence_representations)):\n",
        "      # tensor can be transformed as numpy sequence_representations[0].numpy() or sequence_representations[0].to_list\n",
        "      each_seq_rep = sequence_representations[i].tolist()\n",
        "      for each_element in each_seq_rep:\n",
        "          embeddings_results[i].append(each_element)\n",
        "  embeddings_results = pd.DataFrame(embeddings_results).T\n",
        "  return embeddings_results"
      ],
      "metadata": {
        "id": "pl7XVx5HZsHf"
      },
      "execution_count": 2,
      "outputs": []
    },
    {
      "cell_type": "markdown",
      "source": [
        "### data loading and embeddings"
      ],
      "metadata": {
        "id": "RddxugbsdR1Y"
      }
    },
    {
      "cell_type": "code",
      "source": [
        "import numpy as np\n",
        "import pandas as pd"
      ],
      "metadata": {
        "id": "n6NOFoREw-40"
      },
      "execution_count": 3,
      "outputs": []
    },
    {
      "cell_type": "code",
      "source": [
        "# training dataset loading\n",
        "dataset = pd.read_excel('train_3284.xlsx',na_filter = False) # take care the NA sequence problem\n",
        "sequence_list = dataset['sequence'] \n",
        "\n",
        "embeddings_results = pd.DataFrame()\n",
        "for seq in sequence_list:\n",
        "    format_seq = [seq,seq] # the setting is just following the input format setting in ESM model, [name,sequence]\n",
        "    tuple_sequence = tuple(format_seq)\n",
        "    peptide_sequence_list = []\n",
        "    peptide_sequence_list.append(tuple_sequence) # build a summarize list variable including all the sequence information\n",
        "    # employ ESM model for converting and save the converted data in csv format\n",
        "    one_seq_embeddings = esm_embeddings(peptide_sequence_list)\n",
        "    embeddings_results= pd.concat([embeddings_results,one_seq_embeddings])\n",
        "\n",
        "embeddings_results.to_csv('train_3284_train_esm2_t6_8M_UR50D_unified_320_dimension.csv')\n",
        "\n",
        "# loading the y dataset for model development \n",
        "y_train = dataset['label']\n",
        "y_train = np.array(y_train) # transformed as np.array for CNN model"
      ],
      "metadata": {
        "id": "LNlD8pvizH84"
      },
      "execution_count": 52,
      "outputs": []
    },
    {
      "cell_type": "code",
      "source": [
        "# test dataset loading\n",
        "dataset = pd.read_excel('test_580.xlsx',na_filter = False) # take care the NA sequence problem\n",
        "sequence_list = dataset['sequence'] \n",
        "embeddings_results = pd.DataFrame()\n",
        "# embedding all the peptide one by one\n",
        "for seq in sequence_list:\n",
        "    format_seq = [seq,seq] # the setting is just following the input format setting in ESM model, [name,sequence]\n",
        "    tuple_sequence = tuple(format_seq)\n",
        "    peptide_sequence_list = []\n",
        "    peptide_sequence_list.append(tuple_sequence) # build a summarize list variable including all the sequence information\n",
        "    # employ ESM model for converting and save the converted data in csv format\n",
        "    one_seq_embeddings = esm_embeddings(peptide_sequence_list)\n",
        "    embeddings_results= pd.concat([embeddings_results,one_seq_embeddings])\n",
        "\n",
        "embeddings_results.to_csv('test_580_esm2_t6_8M_UR50D_unified_320_dimension.csv')\n",
        "\n",
        "\n",
        "# loading the y dataset for model development \n",
        "y_test = dataset['label']\n",
        "y_test = np.array(y_test) # transformed as np.array for CNN model"
      ],
      "metadata": {
        "id": "U7jxoIsCw8dW"
      },
      "execution_count": 51,
      "outputs": []
    },
    {
      "cell_type": "code",
      "source": [
        "# assign the dataset \n",
        "X_train_data_name = 'train_3284_train_esm2_t6_8M_UR50D_unified_320_dimension.csv'\n",
        "X_train_data = pd.read_csv(X_train_data_name,header=0, index_col = 0,delimiter=',')\n",
        "\n",
        "X_test_data_name = 'test_580_esm2_t6_8M_UR50D_unified_320_dimension.csv'\n",
        "X_test_data = pd.read_csv(X_test_data_name,header=0, index_col = 0,delimiter=',')\n",
        "\n",
        "X_train = np.array(X_train_data)\n",
        "X_test = np.array(X_test_data)\n",
        "\n",
        "# normalize the X data range\n",
        "from sklearn.preprocessing import MinMaxScaler\n",
        "scaler = MinMaxScaler()\n",
        "scaler.fit(X_train)\n",
        "X_train = scaler.transform(X_train) # normalize X to 0-1 range \n",
        "X_test = scaler.transform(X_test)"
      ],
      "metadata": {
        "id": "Xk13-JbBXAph"
      },
      "execution_count": 53,
      "outputs": []
    },
    {
      "cell_type": "code",
      "source": [
        "# check the dimension of the dataset before model development\n",
        "print(X_train.shape)\n",
        "print(X_test.shape)\n",
        "print(y_train.shape)\n",
        "print(y_test.shape)"
      ],
      "metadata": {
        "colab": {
          "base_uri": "https://localhost:8080/"
        },
        "id": "HubTATKXslKw",
        "outputId": "9e032728-6d76-43ce-d835-75a6152ae369"
      },
      "execution_count": 54,
      "outputs": [
        {
          "output_type": "stream",
          "name": "stdout",
          "text": [
            "(3284, 320)\n",
            "(580, 320)\n",
            "(3284,)\n",
            "(580,)\n"
          ]
        }
      ]
    },
    {
      "cell_type": "code",
      "source": [
        "X_train = np.array(X_train_data)\n",
        "X_test = np.array(X_test_data)\n",
        "# concatenate the dataset\n",
        "X = np.concatenate((X_train, X_test), axis=0)\n",
        "y = np.concatenate((y_train, y_test), axis=0)\n",
        "X_train, X_test, y_train, y_test = train_test_split( X, y, test_size=0.15, random_state=17)"
      ],
      "metadata": {
        "id": "yI1XvSKfj2oI"
      },
      "execution_count": 55,
      "outputs": []
    },
    {
      "cell_type": "code",
      "source": [
        "\n",
        "print(ACC_collecton)\n",
        "print(BACC_collecton)\n",
        "print(Sn_collecton)\n",
        "print(Sp_collecton)\n",
        "print(MCC_collecton)\n",
        "print(AUC_collecton)"
      ],
      "metadata": {
        "id": "w7vpdIuRR5tI"
      },
      "execution_count": null,
      "outputs": []
    },
    {
      "cell_type": "code",
      "source": [
        "import joblib\n",
        "scaler = MinMaxScaler()\n",
        "scaler.fit(X_train)\n",
        "\n",
        "joblib.dump(scaler, 'toxicity.joblib')\n"
      ],
      "metadata": {
        "colab": {
          "base_uri": "https://localhost:8080/"
        },
        "id": "8DNdHaxZKDE-",
        "outputId": "d2b7a2e2-2dfc-4170-f981-863bfb9bb3e4"
      },
      "execution_count": 59,
      "outputs": [
        {
          "output_type": "execute_result",
          "data": {
            "text/plain": [
              "['toxicity.joblib']"
            ]
          },
          "metadata": {},
          "execution_count": 59
        }
      ]
    },
    {
      "cell_type": "markdown",
      "source": [
        "### Model architecture"
      ],
      "metadata": {
        "id": "U3Fagh9Iw83q"
      }
    },
    {
      "cell_type": "code",
      "source": [
        "def ESM_CNN(X_train, y_train, X_test, y_test):\n",
        "  from keras.layers import Input,InputLayer, Dense, Activation, ZeroPadding2D, BatchNormalization, Flatten, Conv2D,Conv1D\n",
        "  from keras.layers import AveragePooling2D, MaxPooling2D, Dropout, AveragePooling1D, MaxPooling1D\n",
        "  from keras.models import Sequential,Model\n",
        "  from keras.optimizers import SGD\n",
        "  from keras.callbacks import ModelCheckpoint,LearningRateScheduler, EarlyStopping\n",
        "  import keras\n",
        "  from keras import backend as K\n",
        "  inputShape=(320,1)\n",
        "  input = Input(inputShape)\n",
        "  x = Conv1D(128,(3),strides = (1),name='layer_conv1',padding='same')(input)\n",
        "  x = BatchNormalization()(x)\n",
        "  x = Activation('relu')(x)\n",
        "  x = MaxPooling1D((2), name='MaxPool1',padding=\"same\")(x)\n",
        "  x = Dropout(0.15)(x)\n",
        "  x = Conv1D(32,(3),strides = (1),name='layer_conv2',padding='same')(input)\n",
        "  x = BatchNormalization()(x)\n",
        "  x = Activation('relu')(x)\n",
        "  x = MaxPooling1D((2), name='MaxPool2',padding=\"same\")(x)\n",
        "  x = Dropout(0.15)(x)\n",
        "  x = Flatten()(x)\n",
        "  x = Dense(64,activation = 'relu',name='fc1')(x)\n",
        "  x = Dropout(0.15)(x)\n",
        "  x = Dense(2,activation = 'softmax',name='fc2')(x)\n",
        "  model = Model(inputs = input,outputs = x,name='Predict')\n",
        "  # define SGD optimizer\n",
        "  momentum = 0.5\n",
        "  sgd = SGD(lr=0.01, momentum=momentum, decay=0.0, nesterov=False)\n",
        "  # compile the model\n",
        "  model.compile(loss='sparse_categorical_crossentropy',optimizer=sgd, metrics=['accuracy'])\n",
        "  # learning deccay setting\n",
        "  import math\n",
        "  def step_decay(epoch): # gradually decrease the learning rate \n",
        "      initial_lrate=0.1\n",
        "      drop=0.6\n",
        "      epochs_drop = 3.0\n",
        "      lrate= initial_lrate * math.pow(drop,    # math.pow base raised to a power\n",
        "            math.floor((1+epoch)/epochs_drop)) # math.floor Round numbers down to the nearest integer\n",
        "      return lrate\n",
        "  lrate = LearningRateScheduler(step_decay)\n",
        "\n",
        "  # early stop setting\n",
        "  early_stop = EarlyStopping(monitor='val_accuracy', patience = 40,restore_best_weights = True)\n",
        "\n",
        "  # summary the callbacks_list\n",
        "  callbacks_list = [ lrate , early_stop]\n",
        "\n",
        "  model_history = model.fit(X_train, y_train, validation_data=(X_test, y_test),\n",
        "                            epochs=200,callbacks=callbacks_list,batch_size = 8, verbose=2)\n",
        "  return model, model_history"
      ],
      "metadata": {
        "id": "b0QeK6-Cg_cv"
      },
      "execution_count": 8,
      "outputs": []
    },
    {
      "cell_type": "markdown",
      "source": [
        "### 10-fold cross validation"
      ],
      "metadata": {
        "id": "sws_G8h08tuq"
      }
    },
    {
      "cell_type": "code",
      "source": [
        "#Implementing 10-fold cross validation\n",
        "from sklearn.model_selection import KFold\n",
        "k = 10 \n",
        "kf = KFold(n_splits=k, shuffle = True, random_state=1)\n",
        "X_train = pd.DataFrame(X_train)\n",
        "y_train = pd.DataFrame(y_train)\n",
        "\n",
        "# result collection list\n",
        "ACC_collecton = []\n",
        "BACC_collecton = []\n",
        "Sn_collecton = []\n",
        "Sp_collecton = []\n",
        "MCC_collecton = []\n",
        "AUC_collecton = []\n",
        "\n",
        "for train_index , test_index in kf.split(y_train):\n",
        "    X_train_CV , X_valid_CV = X_train.iloc[train_index,:],X_train.iloc[test_index,:]\n",
        "    y_train_CV , y_valid_CV = y_train.iloc[train_index] , y_train.iloc[test_index]\n",
        "    model, model_history = ESM_CNN(X_train_CV, y_train_CV, X_valid_CV, y_valid_CV)\n",
        "    # confusion matrix \n",
        "    predicted_class= []\n",
        "    predicted_protability = model.predict(X_valid_CV,batch_size=1)\n",
        "    for i in range(predicted_protability.shape[0]):\n",
        "      index = np.where(predicted_protability[i] == np.amax(predicted_protability[i]))[0][0]\n",
        "      predicted_class.append(index)\n",
        "    predicted_class = np.array(predicted_class)\n",
        "    y_true = y_valid_CV    \n",
        "    from sklearn.metrics import confusion_matrix\n",
        "    import math\n",
        "    # np.ravel() return a flatten 1D array\n",
        "    TP, FP, FN, TN = confusion_matrix(y_true, predicted_class).ravel() # shape [ [True-Positive, False-positive], [False-negative, True-negative] ]\n",
        "    ACC = (TP+TN)/(TP+TN+FP+FN)\n",
        "    ACC_collecton.append(ACC)\n",
        "    Sn_collecton.append(TP/(TP+FN))\n",
        "    Sp_collecton.append(TN/(TN+FP))\n",
        "    MCC = (TP*TN-FP*FN)/math.pow(((TP+FP)*(TP+FN)*(TN+FP)*(TN+FN)),0.5)\n",
        "    MCC_collecton.append(MCC)\n",
        "    BACC_collecton.append(0.5*TP/(TP+FN)+0.5*TN/(TN+FP))\n",
        "    from sklearn.metrics import roc_auc_score\n",
        "    AUC = roc_auc_score(y_valid_CV, predicted_protability[:,1])\n",
        "    AUC_collecton.append(AUC)\n",
        "    \n"
      ],
      "metadata": {
        "id": "iFGZ88goj6u4"
      },
      "execution_count": null,
      "outputs": []
    },
    {
      "cell_type": "code",
      "source": [
        "from statistics import mean, stdev\n",
        "print(mean(ACC_collecton),'±',stdev(ACC_collecton))\n",
        "print(mean(BACC_collecton),'±',stdev(BACC_collecton))\n",
        "print(mean(Sn_collecton),'±',stdev(Sn_collecton))\n",
        "print(mean(Sp_collecton),'±',stdev(Sp_collecton))\n",
        "print(mean(MCC_collecton),'±',stdev(MCC_collecton))\n",
        "print(mean(AUC_collecton),'±',stdev(AUC_collecton))\n"
      ],
      "metadata": {
        "id": "gTi2x37MzsIY"
      },
      "execution_count": null,
      "outputs": []
    },
    {
      "cell_type": "markdown",
      "source": [
        "### model evaluation in test dataset"
      ],
      "metadata": {
        "id": "5JBlTA9shnQE"
      }
    },
    {
      "cell_type": "code",
      "source": [
        "# result collection list\n",
        "ACC_collecton = []\n",
        "BACC_collecton = []\n",
        "Sn_collecton = []\n",
        "Sp_collecton = []\n",
        "MCC_collecton = []\n",
        "AUC_collecton = []\n",
        "model, model_history = ESM_CNN(X_train, y_train, X_test , y_test)\n",
        "# confusion matrix \n",
        "predicted_class= []\n",
        "predicted_protability = model.predict(X_test,batch_size=1)\n",
        "for i in range(predicted_protability.shape[0]):\n",
        "  index = np.where(predicted_protability[i] == np.amax(predicted_protability[i]))[0][0]\n",
        "  predicted_class.append(index)\n",
        "predicted_class = np.array(predicted_class)\n",
        "y_true = y_test    \n",
        "from sklearn.metrics import confusion_matrix\n",
        "import math\n",
        "# np.ravel() return a flatten 1D array\n",
        "TP, FP, FN, TN = confusion_matrix(y_true, predicted_class).ravel() # shape [ [True-Positive, False-positive], [False-negative, True-negative] ]\n",
        "ACC = (TP+TN)/(TP+TN+FP+FN)\n",
        "ACC_collecton.append(ACC)\n",
        "Sn_collecton.append(TP/(TP+FN))\n",
        "Sp_collecton.append(TN/(TN+FP))\n",
        "MCC = (TP*TN-FP*FN)/math.pow(((TP+FP)*(TP+FN)*(TN+FP)*(TN+FN)),0.5)\n",
        "MCC_collecton.append(MCC)\n",
        "BACC_collecton.append(0.5*TP/(TP+FN)+0.5*TN/(TN+FP))\n",
        "from sklearn.metrics import roc_auc_score\n",
        "AUC = roc_auc_score(y_test, predicted_protability[:,1])\n",
        "AUC_collecton.append(AUC)"
      ],
      "metadata": {
        "id": "KPwEv_WsnH6Q",
        "colab": {
          "base_uri": "https://localhost:8080/"
        },
        "outputId": "ef9e4d19-6942-4636-db1f-63264bc634d7"
      },
      "execution_count": 56,
      "outputs": [
        {
          "output_type": "stream",
          "name": "stdout",
          "text": [
            "Epoch 1/200\n"
          ]
        },
        {
          "output_type": "stream",
          "name": "stderr",
          "text": [
            "/usr/local/lib/python3.8/dist-packages/keras/optimizers/optimizer_v2/gradient_descent.py:114: UserWarning: The `lr` argument is deprecated, use `learning_rate` instead.\n",
            "  super().__init__(name, **kwargs)\n"
          ]
        },
        {
          "output_type": "stream",
          "name": "stdout",
          "text": [
            "411/411 - 5s - loss: 0.5787 - accuracy: 0.8191 - val_loss: 0.3113 - val_accuracy: 0.8966 - lr: 0.1000 - 5s/epoch - 13ms/step\n",
            "Epoch 2/200\n",
            "411/411 - 3s - loss: 0.3527 - accuracy: 0.8621 - val_loss: 0.2818 - val_accuracy: 0.8845 - lr: 0.1000 - 3s/epoch - 8ms/step\n",
            "Epoch 3/200\n",
            "411/411 - 3s - loss: 0.3094 - accuracy: 0.8803 - val_loss: 0.2376 - val_accuracy: 0.9121 - lr: 0.0600 - 3s/epoch - 8ms/step\n",
            "Epoch 4/200\n",
            "411/411 - 4s - loss: 0.2978 - accuracy: 0.8803 - val_loss: 0.2578 - val_accuracy: 0.9052 - lr: 0.0600 - 4s/epoch - 9ms/step\n",
            "Epoch 5/200\n",
            "411/411 - 4s - loss: 0.2888 - accuracy: 0.8882 - val_loss: 0.2292 - val_accuracy: 0.9121 - lr: 0.0600 - 4s/epoch - 9ms/step\n",
            "Epoch 6/200\n",
            "411/411 - 3s - loss: 0.2581 - accuracy: 0.8946 - val_loss: 0.2309 - val_accuracy: 0.9259 - lr: 0.0360 - 3s/epoch - 8ms/step\n",
            "Epoch 7/200\n",
            "411/411 - 3s - loss: 0.2475 - accuracy: 0.8995 - val_loss: 0.2195 - val_accuracy: 0.9259 - lr: 0.0360 - 3s/epoch - 8ms/step\n",
            "Epoch 8/200\n",
            "411/411 - 4s - loss: 0.2466 - accuracy: 0.9029 - val_loss: 0.2172 - val_accuracy: 0.9241 - lr: 0.0360 - 4s/epoch - 10ms/step\n",
            "Epoch 9/200\n",
            "411/411 - 3s - loss: 0.2305 - accuracy: 0.9053 - val_loss: 0.1952 - val_accuracy: 0.9379 - lr: 0.0216 - 3s/epoch - 8ms/step\n",
            "Epoch 10/200\n",
            "411/411 - 3s - loss: 0.2200 - accuracy: 0.9062 - val_loss: 0.2401 - val_accuracy: 0.9138 - lr: 0.0216 - 3s/epoch - 8ms/step\n",
            "Epoch 11/200\n",
            "411/411 - 4s - loss: 0.2143 - accuracy: 0.9086 - val_loss: 0.2128 - val_accuracy: 0.9328 - lr: 0.0216 - 4s/epoch - 9ms/step\n",
            "Epoch 12/200\n",
            "411/411 - 4s - loss: 0.2069 - accuracy: 0.9181 - val_loss: 0.1989 - val_accuracy: 0.9362 - lr: 0.0130 - 4s/epoch - 10ms/step\n",
            "Epoch 13/200\n",
            "411/411 - 3s - loss: 0.2071 - accuracy: 0.9123 - val_loss: 0.1988 - val_accuracy: 0.9328 - lr: 0.0130 - 3s/epoch - 8ms/step\n",
            "Epoch 14/200\n",
            "411/411 - 3s - loss: 0.1993 - accuracy: 0.9202 - val_loss: 0.1980 - val_accuracy: 0.9310 - lr: 0.0130 - 3s/epoch - 8ms/step\n",
            "Epoch 15/200\n",
            "411/411 - 5s - loss: 0.1915 - accuracy: 0.9257 - val_loss: 0.1958 - val_accuracy: 0.9345 - lr: 0.0078 - 5s/epoch - 12ms/step\n",
            "Epoch 16/200\n",
            "411/411 - 4s - loss: 0.1906 - accuracy: 0.9257 - val_loss: 0.1969 - val_accuracy: 0.9328 - lr: 0.0078 - 4s/epoch - 9ms/step\n",
            "Epoch 17/200\n",
            "411/411 - 4s - loss: 0.1872 - accuracy: 0.9233 - val_loss: 0.1968 - val_accuracy: 0.9328 - lr: 0.0078 - 4s/epoch - 9ms/step\n",
            "Epoch 18/200\n",
            "411/411 - 4s - loss: 0.1872 - accuracy: 0.9248 - val_loss: 0.2024 - val_accuracy: 0.9379 - lr: 0.0047 - 4s/epoch - 10ms/step\n",
            "Epoch 19/200\n",
            "411/411 - 4s - loss: 0.1818 - accuracy: 0.9275 - val_loss: 0.1965 - val_accuracy: 0.9345 - lr: 0.0047 - 4s/epoch - 9ms/step\n",
            "Epoch 20/200\n",
            "411/411 - 3s - loss: 0.1838 - accuracy: 0.9266 - val_loss: 0.2090 - val_accuracy: 0.9328 - lr: 0.0047 - 3s/epoch - 8ms/step\n",
            "Epoch 21/200\n",
            "411/411 - 3s - loss: 0.1784 - accuracy: 0.9330 - val_loss: 0.2006 - val_accuracy: 0.9345 - lr: 0.0028 - 3s/epoch - 8ms/step\n",
            "Epoch 22/200\n",
            "411/411 - 4s - loss: 0.1761 - accuracy: 0.9321 - val_loss: 0.2047 - val_accuracy: 0.9345 - lr: 0.0028 - 4s/epoch - 10ms/step\n",
            "Epoch 23/200\n",
            "411/411 - 3s - loss: 0.1767 - accuracy: 0.9357 - val_loss: 0.2086 - val_accuracy: 0.9310 - lr: 0.0028 - 3s/epoch - 8ms/step\n",
            "Epoch 24/200\n",
            "411/411 - 4s - loss: 0.1744 - accuracy: 0.9345 - val_loss: 0.2032 - val_accuracy: 0.9362 - lr: 0.0017 - 4s/epoch - 9ms/step\n",
            "Epoch 25/200\n",
            "411/411 - 4s - loss: 0.1698 - accuracy: 0.9354 - val_loss: 0.2041 - val_accuracy: 0.9345 - lr: 0.0017 - 4s/epoch - 11ms/step\n",
            "Epoch 26/200\n",
            "411/411 - 5s - loss: 0.1778 - accuracy: 0.9327 - val_loss: 0.2017 - val_accuracy: 0.9379 - lr: 0.0017 - 5s/epoch - 11ms/step\n",
            "Epoch 27/200\n",
            "411/411 - 4s - loss: 0.1749 - accuracy: 0.9339 - val_loss: 0.2006 - val_accuracy: 0.9414 - lr: 0.0010 - 4s/epoch - 9ms/step\n",
            "Epoch 28/200\n",
            "411/411 - 4s - loss: 0.1720 - accuracy: 0.9376 - val_loss: 0.1991 - val_accuracy: 0.9379 - lr: 0.0010 - 4s/epoch - 10ms/step\n",
            "Epoch 29/200\n",
            "411/411 - 4s - loss: 0.1696 - accuracy: 0.9351 - val_loss: 0.2013 - val_accuracy: 0.9397 - lr: 0.0010 - 4s/epoch - 9ms/step\n",
            "Epoch 30/200\n",
            "411/411 - 3s - loss: 0.1618 - accuracy: 0.9403 - val_loss: 0.2010 - val_accuracy: 0.9379 - lr: 6.0466e-04 - 3s/epoch - 8ms/step\n",
            "Epoch 31/200\n",
            "411/411 - 3s - loss: 0.1663 - accuracy: 0.9364 - val_loss: 0.2035 - val_accuracy: 0.9397 - lr: 6.0466e-04 - 3s/epoch - 8ms/step\n",
            "Epoch 32/200\n",
            "411/411 - 4s - loss: 0.1668 - accuracy: 0.9354 - val_loss: 0.2010 - val_accuracy: 0.9397 - lr: 6.0466e-04 - 4s/epoch - 11ms/step\n",
            "Epoch 33/200\n",
            "411/411 - 4s - loss: 0.1646 - accuracy: 0.9361 - val_loss: 0.2012 - val_accuracy: 0.9414 - lr: 3.6280e-04 - 4s/epoch - 9ms/step\n",
            "Epoch 34/200\n",
            "411/411 - 3s - loss: 0.1650 - accuracy: 0.9330 - val_loss: 0.2020 - val_accuracy: 0.9414 - lr: 3.6280e-04 - 3s/epoch - 8ms/step\n",
            "Epoch 35/200\n",
            "411/411 - 4s - loss: 0.1650 - accuracy: 0.9376 - val_loss: 0.2021 - val_accuracy: 0.9414 - lr: 3.6280e-04 - 4s/epoch - 11ms/step\n",
            "Epoch 36/200\n",
            "411/411 - 3s - loss: 0.1707 - accuracy: 0.9300 - val_loss: 0.2015 - val_accuracy: 0.9397 - lr: 2.1768e-04 - 3s/epoch - 8ms/step\n",
            "Epoch 37/200\n",
            "411/411 - 3s - loss: 0.1651 - accuracy: 0.9373 - val_loss: 0.2016 - val_accuracy: 0.9397 - lr: 2.1768e-04 - 3s/epoch - 8ms/step\n",
            "Epoch 38/200\n",
            "411/411 - 4s - loss: 0.1706 - accuracy: 0.9348 - val_loss: 0.2019 - val_accuracy: 0.9414 - lr: 2.1768e-04 - 4s/epoch - 9ms/step\n",
            "Epoch 39/200\n",
            "411/411 - 4s - loss: 0.1625 - accuracy: 0.9333 - val_loss: 0.2019 - val_accuracy: 0.9414 - lr: 1.3061e-04 - 4s/epoch - 10ms/step\n",
            "Epoch 40/200\n",
            "411/411 - 4s - loss: 0.1647 - accuracy: 0.9315 - val_loss: 0.2016 - val_accuracy: 0.9414 - lr: 1.3061e-04 - 4s/epoch - 9ms/step\n",
            "Epoch 41/200\n",
            "411/411 - 4s - loss: 0.1682 - accuracy: 0.9324 - val_loss: 0.2015 - val_accuracy: 0.9379 - lr: 1.3061e-04 - 4s/epoch - 9ms/step\n",
            "Epoch 42/200\n",
            "411/411 - 4s - loss: 0.1679 - accuracy: 0.9345 - val_loss: 0.2012 - val_accuracy: 0.9379 - lr: 7.8364e-05 - 4s/epoch - 11ms/step\n",
            "Epoch 43/200\n",
            "411/411 - 3s - loss: 0.1630 - accuracy: 0.9357 - val_loss: 0.2013 - val_accuracy: 0.9379 - lr: 7.8364e-05 - 3s/epoch - 8ms/step\n",
            "Epoch 44/200\n",
            "411/411 - 4s - loss: 0.1616 - accuracy: 0.9354 - val_loss: 0.2013 - val_accuracy: 0.9379 - lr: 7.8364e-05 - 4s/epoch - 9ms/step\n",
            "Epoch 45/200\n",
            "411/411 - 4s - loss: 0.1657 - accuracy: 0.9357 - val_loss: 0.2014 - val_accuracy: 0.9379 - lr: 4.7018e-05 - 4s/epoch - 10ms/step\n",
            "Epoch 46/200\n",
            "411/411 - 4s - loss: 0.1709 - accuracy: 0.9336 - val_loss: 0.2015 - val_accuracy: 0.9397 - lr: 4.7018e-05 - 4s/epoch - 10ms/step\n",
            "Epoch 47/200\n",
            "411/411 - 4s - loss: 0.1636 - accuracy: 0.9382 - val_loss: 0.2018 - val_accuracy: 0.9397 - lr: 4.7018e-05 - 4s/epoch - 9ms/step\n",
            "Epoch 48/200\n",
            "411/411 - 4s - loss: 0.1606 - accuracy: 0.9373 - val_loss: 0.2018 - val_accuracy: 0.9397 - lr: 2.8211e-05 - 4s/epoch - 9ms/step\n",
            "Epoch 49/200\n",
            "411/411 - 4s - loss: 0.1619 - accuracy: 0.9361 - val_loss: 0.2017 - val_accuracy: 0.9379 - lr: 2.8211e-05 - 4s/epoch - 11ms/step\n",
            "Epoch 50/200\n",
            "411/411 - 4s - loss: 0.1701 - accuracy: 0.9318 - val_loss: 0.2016 - val_accuracy: 0.9379 - lr: 2.8211e-05 - 4s/epoch - 9ms/step\n",
            "Epoch 51/200\n",
            "411/411 - 3s - loss: 0.1628 - accuracy: 0.9415 - val_loss: 0.2017 - val_accuracy: 0.9379 - lr: 1.6927e-05 - 3s/epoch - 8ms/step\n",
            "Epoch 52/200\n",
            "411/411 - 5s - loss: 0.1689 - accuracy: 0.9348 - val_loss: 0.2018 - val_accuracy: 0.9397 - lr: 1.6927e-05 - 5s/epoch - 11ms/step\n",
            "Epoch 53/200\n",
            "411/411 - 4s - loss: 0.1674 - accuracy: 0.9351 - val_loss: 0.2017 - val_accuracy: 0.9379 - lr: 1.6927e-05 - 4s/epoch - 9ms/step\n",
            "Epoch 54/200\n",
            "411/411 - 4s - loss: 0.1618 - accuracy: 0.9373 - val_loss: 0.2017 - val_accuracy: 0.9379 - lr: 1.0156e-05 - 4s/epoch - 9ms/step\n",
            "Epoch 55/200\n",
            "411/411 - 5s - loss: 0.1653 - accuracy: 0.9336 - val_loss: 0.2016 - val_accuracy: 0.9379 - lr: 1.0156e-05 - 5s/epoch - 11ms/step\n",
            "Epoch 56/200\n",
            "411/411 - 4s - loss: 0.1682 - accuracy: 0.9324 - val_loss: 0.2017 - val_accuracy: 0.9379 - lr: 1.0156e-05 - 4s/epoch - 9ms/step\n",
            "Epoch 57/200\n",
            "411/411 - 3s - loss: 0.1658 - accuracy: 0.9354 - val_loss: 0.2017 - val_accuracy: 0.9379 - lr: 6.0936e-06 - 3s/epoch - 8ms/step\n",
            "Epoch 58/200\n",
            "411/411 - 4s - loss: 0.1647 - accuracy: 0.9351 - val_loss: 0.2016 - val_accuracy: 0.9379 - lr: 6.0936e-06 - 4s/epoch - 10ms/step\n",
            "Epoch 59/200\n",
            "411/411 - 4s - loss: 0.1648 - accuracy: 0.9388 - val_loss: 0.2017 - val_accuracy: 0.9379 - lr: 6.0936e-06 - 4s/epoch - 9ms/step\n",
            "Epoch 60/200\n",
            "411/411 - 3s - loss: 0.1632 - accuracy: 0.9379 - val_loss: 0.2017 - val_accuracy: 0.9379 - lr: 3.6562e-06 - 3s/epoch - 8ms/step\n",
            "Epoch 61/200\n",
            "411/411 - 3s - loss: 0.1645 - accuracy: 0.9354 - val_loss: 0.2017 - val_accuracy: 0.9379 - lr: 3.6562e-06 - 3s/epoch - 8ms/step\n",
            "Epoch 62/200\n",
            "411/411 - 4s - loss: 0.1633 - accuracy: 0.9351 - val_loss: 0.2016 - val_accuracy: 0.9379 - lr: 3.6562e-06 - 4s/epoch - 11ms/step\n",
            "Epoch 63/200\n",
            "411/411 - 3s - loss: 0.1603 - accuracy: 0.9330 - val_loss: 0.2016 - val_accuracy: 0.9379 - lr: 2.1937e-06 - 3s/epoch - 8ms/step\n",
            "Epoch 64/200\n",
            "411/411 - 3s - loss: 0.1649 - accuracy: 0.9373 - val_loss: 0.2017 - val_accuracy: 0.9379 - lr: 2.1937e-06 - 3s/epoch - 8ms/step\n",
            "Epoch 65/200\n",
            "411/411 - 4s - loss: 0.1616 - accuracy: 0.9303 - val_loss: 0.2017 - val_accuracy: 0.9379 - lr: 2.1937e-06 - 4s/epoch - 10ms/step\n",
            "Epoch 66/200\n",
            "411/411 - 4s - loss: 0.1703 - accuracy: 0.9370 - val_loss: 0.2018 - val_accuracy: 0.9397 - lr: 1.3162e-06 - 4s/epoch - 9ms/step\n",
            "Epoch 67/200\n",
            "411/411 - 4s - loss: 0.1675 - accuracy: 0.9391 - val_loss: 0.2017 - val_accuracy: 0.9397 - lr: 1.3162e-06 - 4s/epoch - 9ms/step\n",
            "580/580 [==============================] - 1s 2ms/step\n"
          ]
        }
      ]
    },
    {
      "cell_type": "code",
      "source": [
        "print(ACC_collecton[0])\n",
        "print(BACC_collecton[0])\n",
        "print(Sn_collecton[0])\n",
        "print(Sp_collecton[0])\n",
        "print(MCC_collecton[0])\n",
        "print(AUC_collecton[0])"
      ],
      "metadata": {
        "colab": {
          "base_uri": "https://localhost:8080/"
        },
        "id": "WZJkEJGyAKuT",
        "outputId": "74e9f260-d59f-4f6d-9d3a-f2729021cf73"
      },
      "execution_count": 57,
      "outputs": [
        {
          "output_type": "stream",
          "name": "stdout",
          "text": [
            "0.9413793103448276\n",
            "0.9411946581679371\n",
            "0.9233449477351916\n",
            "0.9590443686006825\n",
            "0.8832299775322083\n",
            "0.9781487173988156\n"
          ]
        }
      ]
    },
    {
      "cell_type": "code",
      "source": [
        "model.save('Toxicity_tensorflow_model',save_format = 'tf') \n",
        "!zip -r /content/Toxicity_tensorflow_model.zip /content/Toxicity_tensorflow_model"
      ],
      "metadata": {
        "colab": {
          "base_uri": "https://localhost:8080/"
        },
        "id": "rDNAw5DCUDHT",
        "outputId": "1a8a5671-c3d0-4f61-99cc-57a07c5e8379"
      },
      "execution_count": 60,
      "outputs": [
        {
          "output_type": "stream",
          "name": "stderr",
          "text": [
            "WARNING:absl:Found untraced functions such as _jit_compiled_convolution_op while saving (showing 1 of 1). These functions will not be directly callable after loading.\n"
          ]
        },
        {
          "output_type": "stream",
          "name": "stdout",
          "text": [
            "updating: content/Toxicity_tensorflow_model/ (stored 0%)\n",
            "updating: content/Toxicity_tensorflow_model/keras_metadata.pb (deflated 90%)\n",
            "updating: content/Toxicity_tensorflow_model/assets/ (stored 0%)\n",
            "updating: content/Toxicity_tensorflow_model/saved_model.pb (deflated 88%)\n",
            "updating: content/Toxicity_tensorflow_model/variables/ (stored 0%)\n",
            "updating: content/Toxicity_tensorflow_model/variables/variables.data-00000-of-00001 (deflated 35%)\n",
            "updating: content/Toxicity_tensorflow_model/variables/variables.index (deflated 64%)\n",
            "updating: content/Toxicity_tensorflow_model/fingerprint.pb (stored 0%)\n"
          ]
        }
      ]
    },
    {
      "cell_type": "markdown",
      "source": [
        "### t-SNE graph making"
      ],
      "metadata": {
        "id": "1G1yUX0bCZyG"
      }
    },
    {
      "cell_type": "code",
      "source": [
        "# loading datasset\n",
        "X_train_data_name = 'train_3284_train_esm2_t6_8M_UR50D_unified_320_dimension.csv'\n",
        "X_train_data = pd.read_csv(X_train_data_name,header=0, index_col = 0,delimiter=',')\n",
        "X_test_data_name = 'test_580_esm2_t6_8M_UR50D_unified_320_dimension.csv'\n",
        "X_test_data = pd.read_csv(X_test_data_name,header=0, index_col = 0,delimiter=',')\n",
        "X_train = np.array(X_train_data)\n",
        "X_test = np.array(X_test_data)\n",
        "# training dataset loading\n",
        "dataset = pd.read_excel('train_3284.xlsx',na_filter = False) # take care the NA sequence problem\n",
        "# loading the y dataset for model development \n",
        "y_train = dataset['label']\n",
        "y_train = np.array(y_train) # transformed as np.array for CNN model\n",
        "# training dataset loading\n",
        "dataset = pd.read_excel('test_580.xlsx',na_filter = False) # take care the NA sequence problem\n",
        "# loading the y dataset for model development \n",
        "y_test = dataset['label']\n",
        "y_test = np.array(y_test) # transformed as np.array for CNN model\n",
        "# normalize the X data range (just )\n",
        "from sklearn.preprocessing import MinMaxScaler\n",
        "scaler = MinMaxScaler()\n",
        "scaler.fit(X_train)\n",
        "X_train = scaler.transform(X_train) # normalize X to 0-1 range \n",
        "X_test = scaler.transform(X_test)\n",
        "# concatenate the dataset\n",
        "X = np.concatenate((X_train, X_test), axis=0)\n",
        "y = np.concatenate((y_train, y_test), axis=0)\n",
        "\n",
        "from sklearn.manifold import TSNE\n",
        "from keras.datasets import mnist\n",
        "from sklearn.datasets import load_iris\n",
        "from numpy import reshape\n",
        "import seaborn as sns\n",
        "import pandas as pd  \n",
        "tsne = TSNE(n_components=2, verbose=0, perplexity= 25, learning_rate='auto',n_iter = 5000,random_state=123)\n",
        "z = tsne.fit_transform(X) \n",
        "df = pd.DataFrame()\n",
        "df[\"comp-1\"] = z[:,0]\n",
        "df[\"comp-2\"] = z[:,1]\n",
        "y_new_label=[]\n",
        "for i in y:\n",
        "    if i == 0:\n",
        "        y_new_label.append('Active')\n",
        "    if i == 1:\n",
        "        y_new_label.append('Inactive')\n",
        "df[\"y\"] = y_new_label\n",
        "graph = sns.scatterplot(data=df, x=\"comp-1\", y=\"comp-2\", hue=y_new_label,\n",
        "                palette='BrBG_r', legend='full')\n",
        "graph_for_output = graph.get_figure()\n",
        "graph_for_output.savefig('17.toxicity_t-SNE.png', dpi=300)\n",
        "df.to_excel('17.toxicity_t-SNE.xlsx')\n"
      ],
      "metadata": {
        "colab": {
          "base_uri": "https://localhost:8080/",
          "height": 0
        },
        "id": "abadUCq3CeO3",
        "outputId": "c1a9cd14-ba77-444b-9be9-22a4d1c0de0d"
      },
      "execution_count": 46,
      "outputs": [
        {
          "output_type": "stream",
          "name": "stderr",
          "text": [
            "/usr/local/lib/python3.8/dist-packages/sklearn/manifold/_t_sne.py:780: FutureWarning: The default initialization in TSNE will change from 'random' to 'pca' in 1.2.\n",
            "  warnings.warn(\n"
          ]
        },
        {
          "output_type": "display_data",
          "data": {
            "text/plain": [
              "<Figure size 432x288 with 1 Axes>"
            ],
            "image/png": "[encoded data removed]"
          },
          "metadata": {
            "needs_background": "light"
          }
        }
      ]
    },
    {
      "cell_type": "markdown",
      "source": [
        "### UMAP"
      ],
      "metadata": {
        "collapsed": false,
        "id": "dhl9oWmP_RXO"
      }
    },
    {
      "cell_type": "code",
      "source": [
        "!pip install umap-learn"
      ],
      "metadata": {
        "id": "rQIWSlOUCwqb",
        "colab": {
          "base_uri": "https://localhost:8080/"
        },
        "outputId": "67535108-f6e3-4bbc-9c54-76d5021cd769"
      },
      "execution_count": 47,
      "outputs": [
        {
          "output_type": "stream",
          "name": "stdout",
          "text": [
            "Looking in indexes: https://pypi.org/simple, https://us-python.pkg.dev/colab-wheels/public/simple/\n",
            "Collecting umap-learn\n",
            "  Downloading umap-learn-0.5.3.tar.gz (88 kB)\n",
            "\u001b[2K     \u001b[90m━━━━━━━━━━━━━━━━━━━━━━━━━━━━━━━━━━━━━━━━\u001b[0m \u001b[32m88.2/88.2 KB\u001b[0m \u001b[31m3.7 MB/s\u001b[0m eta \u001b[36m0:00:00\u001b[0m\n",
            "\u001b[?25h  Preparing metadata (setup.py) ... \u001b[?25l\u001b[?25hdone\n",
            "Requirement already satisfied: numpy>=1.17 in /usr/local/lib/python3.8/dist-packages (from umap-learn) (1.21.6)\n",
            "Requirement already satisfied: scikit-learn>=0.22 in /usr/local/lib/python3.8/dist-packages (from umap-learn) (1.0.2)\n",
            "Requirement already satisfied: scipy>=1.0 in /usr/local/lib/python3.8/dist-packages (from umap-learn) (1.7.3)\n",
            "Requirement already satisfied: numba>=0.49 in /usr/local/lib/python3.8/dist-packages (from umap-learn) (0.56.4)\n",
            "Collecting pynndescent>=0.5\n",
            "  Downloading pynndescent-0.5.8.tar.gz (1.1 MB)\n",
            "\u001b[2K     \u001b[90m━━━━━━━━━━━━━━━━━━━━━━━━━━━━━━━━━━━━━━━━\u001b[0m \u001b[32m1.1/1.1 MB\u001b[0m \u001b[31m23.7 MB/s\u001b[0m eta \u001b[36m0:00:00\u001b[0m\n",
            "\u001b[?25h  Preparing metadata (setup.py) ... \u001b[?25l\u001b[?25hdone\n",
            "Requirement already satisfied: tqdm in /usr/local/lib/python3.8/dist-packages (from umap-learn) (4.64.1)\n",
            "Requirement already satisfied: setuptools in /usr/local/lib/python3.8/dist-packages (from numba>=0.49->umap-learn) (57.4.0)\n",
            "Requirement already satisfied: importlib-metadata in /usr/local/lib/python3.8/dist-packages (from numba>=0.49->umap-learn) (6.0.0)\n",
            "Requirement already satisfied: llvmlite<0.40,>=0.39.0dev0 in /usr/local/lib/python3.8/dist-packages (from numba>=0.49->umap-learn) (0.39.1)\n",
            "Requirement already satisfied: joblib>=0.11 in /usr/local/lib/python3.8/dist-packages (from pynndescent>=0.5->umap-learn) (1.2.0)\n",
            "Requirement already satisfied: threadpoolctl>=2.0.0 in /usr/local/lib/python3.8/dist-packages (from scikit-learn>=0.22->umap-learn) (3.1.0)\n",
            "Requirement already satisfied: zipp>=0.5 in /usr/local/lib/python3.8/dist-packages (from importlib-metadata->numba>=0.49->umap-learn) (3.12.1)\n",
            "Building wheels for collected packages: umap-learn, pynndescent\n",
            "  Building wheel for umap-learn (setup.py) ... \u001b[?25l\u001b[?25hdone\n",
            "  Created wheel for umap-learn: filename=umap_learn-0.5.3-py3-none-any.whl size=82829 sha256=9780cb1d04906fa68baeb84611ec6e622df1f2ae50d113add0439de13fd85750\n",
            "  Stored in directory: /root/.cache/pip/wheels/a9/3a/67/06a8950e053725912e6a8c42c4a3a241410f6487b8402542ea\n",
            "  Building wheel for pynndescent (setup.py) ... \u001b[?25l\u001b[?25hdone\n",
            "  Created wheel for pynndescent: filename=pynndescent-0.5.8-py3-none-any.whl size=55513 sha256=dfe05a129621f732c76bbec60e310e1e0f56c788716d662b7edb03df8202c406\n",
            "  Stored in directory: /root/.cache/pip/wheels/1c/63/3a/29954bca1a27ba100ed8c27973a78cb71b43dc67aed62e80c3\n",
            "Successfully built umap-learn pynndescent\n",
            "Installing collected packages: pynndescent, umap-learn\n",
            "Successfully installed pynndescent-0.5.8 umap-learn-0.5.3\n"
          ]
        }
      ]
    },
    {
      "cell_type": "code",
      "execution_count": 48,
      "outputs": [
        {
          "output_type": "display_data",
          "data": {
            "text/plain": [
              "<Figure size 432x288 with 1 Axes>"
            ],
            "image/png": "[encoded data removed]"
          },
          "metadata": {
            "needs_background": "light"
          }
        }
      ],
      "source": [
        "import umap\n",
        "import seaborn as sns\n",
        "# concatenate the dataset\n",
        "X = np.concatenate((X_train, X_test), axis=0)\n",
        "y = np.concatenate((y_train, y_test), axis=0)\n",
        "embedding = umap.UMAP(n_neighbors=20).fit_transform(X, y=y) # two dimension\n",
        "df = pd.DataFrame()\n",
        "df[\"comp-1\"] = embedding[:,0]\n",
        "df[\"comp-2\"] = embedding[:,1]\n",
        "y_new_label=[]\n",
        "for i in y:\n",
        "    if i == 0:\n",
        "        y_new_label.append('Active')\n",
        "    if i == 1:\n",
        "        y_new_label.append('Inactive')\n",
        "df[\"y\"] = y_new_label\n",
        "graph = sns.scatterplot(data=df, x=\"comp-1\", y=\"comp-2\", hue=y_new_label,\n",
        "                palette='YlOrRd_r', legend='full')\n",
        "graph_for_output = graph.get_figure()\n",
        "graph_for_output.savefig('17.toxicity_UMAP.png', dpi=300)\n",
        "df.to_excel('17.toxicity_UMAP.xlsx')\n"
      ],
      "metadata": {
        "colab": {
          "base_uri": "https://localhost:8080/",
          "height": 279
        },
        "id": "udbZJufd_RXP",
        "outputId": "66c0a6fe-688e-405a-ae6d-5653d185be3c"
      }
    },
    {
      "cell_type": "code",
      "source": [],
      "metadata": {
        "id": "q5O45qvuJ90G"
      },
      "execution_count": null,
      "outputs": []
    }
  ]
}