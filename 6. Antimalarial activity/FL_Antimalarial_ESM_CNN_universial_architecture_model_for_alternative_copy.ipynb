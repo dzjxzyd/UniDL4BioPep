{
  "nbformat": 4,
  "nbformat_minor": 0,
  "metadata": {
    "colab": {
      "provenance": []
    },
    "kernelspec": {
      "name": "python3",
      "display_name": "Python 3"
    },
    "language_info": {
      "name": "python"
    }
  },
  "cells": [
    {
      "cell_type": "markdown",
      "source": [
        "### requirements for the following codings\n"
      ],
      "metadata": {
        "id": "95NTckuFZZzm"
      }
    },
    {
      "cell_type": "code",
      "source": [
        "### packages required \n",
        "!pip install fair-esm \n",
        "!pip install torch\n",
        "!pip install tensorflow\n",
        "!pip install sklearn"
      ],
      "metadata": {
        "id": "UO71IBS6ZgZV",
        "colab": {
          "base_uri": "https://localhost:8080/"
        },
        "outputId": "cc472b55-f2b4-451d-c269-a66d635c1db6"
      },
      "execution_count": null,
      "outputs": [
        {
          "output_type": "stream",
          "name": "stdout",
          "text": [
            "Looking in indexes: https://pypi.org/simple, https://us-python.pkg.dev/colab-wheels/public/simple/\n",
            "Collecting fair-esm\n",
            "  Downloading fair_esm-2.0.0-py3-none-any.whl (93 kB)\n",
            "\u001b[K     |████████████████████████████████| 93 kB 1.3 MB/s \n",
            "\u001b[?25hInstalling collected packages: fair-esm\n",
            "Successfully installed fair-esm-2.0.0\n"
          ]
        }
      ]
    },
    {
      "cell_type": "markdown",
      "source": [
        "### peptide embeddings with esm2_t6_8M_UR50D pretrained models\n",
        "6 layers, 8M parameters, dataset: UR50/D 2021_04, embedding dimension: 320\n",
        "mode download URL: https://dl.fbaipublicfiles.com/fair-esm/models/esm2_t6_8M_UR50D.pt"
      ],
      "metadata": {
        "id": "m91cA0H5w_eY"
      }
    },
    {
      "cell_type": "code",
      "source": [
        "def esm_embeddings(peptide_sequence_list):\n",
        "  # NOTICE: ESM for embeddings is quite RAM usage, if your sequence is too long, \n",
        "  #         or you have too many sequences for transformation in a single converting, \n",
        "  #         you conputer might automatically kill the job.\n",
        "  import torch\n",
        "  import esm\n",
        "  import collections\n",
        "  # load the model\n",
        "  # NOTICE: if the model was not downloaded in your local environment, it will automatically download it.\n",
        "  model, alphabet = esm.pretrained.esm2_t6_8M_UR50D()\n",
        "  batch_converter = alphabet.get_batch_converter()\n",
        "  model.eval()  # disables dropout for deterministic results\n",
        "\n",
        "  # load the peptide sequence list into the bach_converter\n",
        "  batch_labels, batch_strs, batch_tokens = batch_converter(peptide_sequence_list)\n",
        "  batch_lens = (batch_tokens != alphabet.padding_idx).sum(1)\n",
        "  ## batch tokens are the embedding results of the whole data set\n",
        "\n",
        "  # Extract per-residue representations (on CPU)\n",
        "  with torch.no_grad():\n",
        "      # Here we export the last layer of the EMS model output as the representation of the peptides\n",
        "      # model'esm2_t6_8M_UR50D' only has 6 layers, and therefore repr_layers parameters is equal to 6\n",
        "      results = model(batch_tokens, repr_layers=[6], return_contacts=True)  \n",
        "  token_representations = results[\"representations\"][6]\n",
        "\n",
        "  # Generate per-sequence representations via averaging\n",
        "  # NOTE: token 0 is always a beginning-of-sequence token, so the first residue is token 1.\n",
        "  sequence_representations = []\n",
        "  for i, tokens_len in enumerate(batch_lens):\n",
        "      sequence_representations.append(token_representations[i, 1 : tokens_len - 1].mean(0))\n",
        "  # save dataset\n",
        "  # sequence_representations is a list and each element is a tensor\n",
        "  embeddings_results = collections.defaultdict(list)\n",
        "  for i in range(len(sequence_representations)):\n",
        "      # tensor can be transformed as numpy sequence_representations[0].numpy() or sequence_representations[0].to_list\n",
        "      each_seq_rep = sequence_representations[i].tolist()\n",
        "      for each_element in each_seq_rep:\n",
        "          embeddings_results[i].append(each_element)\n",
        "  embeddings_results = pd.DataFrame(embeddings_results).T\n",
        "  return embeddings_results"
      ],
      "metadata": {
        "id": "pl7XVx5HZsHf"
      },
      "execution_count": null,
      "outputs": []
    },
    {
      "cell_type": "markdown",
      "source": [
        "### data loading and embeddings (alternative dataset)"
      ],
      "metadata": {
        "id": "7qxqYf-d_dCs"
      }
    },
    {
      "cell_type": "code",
      "source": [
        "import numpy as np\n",
        "import pandas as pd"
      ],
      "metadata": {
        "id": "LXftqHY1_iEm"
      },
      "execution_count": 13,
      "outputs": []
    },
    {
      "cell_type": "code",
      "source": [
        "# training dataset loading\n",
        "dataset = pd.read_excel('AMAP_train_alternative.xlsx',na_filter = False) # take care the NA sequence problem\n",
        "sequence_list = dataset['sequence'] \n",
        "\n",
        "embeddings_results = pd.DataFrame()\n",
        "# embedding all the peptide one by one\n",
        "for seq in sequence_list:\n",
        "    format_seq = [seq,seq] # the setting is just following the input format setting in ESM model, [name,sequence]\n",
        "    tuple_sequence = tuple(format_seq)\n",
        "    peptide_sequence_list = []\n",
        "    peptide_sequence_list.append(tuple_sequence) # build a summarize list variable including all the sequence information\n",
        "    # employ ESM model for converting and save the converted data in csv format\n",
        "    one_seq_embeddings = esm_embeddings(peptide_sequence_list)\n",
        "    embeddings_results= pd.concat([embeddings_results,one_seq_embeddings])\n",
        "\n",
        "embeddings_results.to_csv('AMAP_train_alternative_esm2_t6_8M_UR50D_unified_320_dimension.csv')\n",
        "\n",
        "# loading the y dataset for model development \n",
        "y_train = dataset['label_reverse']\n",
        "y_train = np.array(y_train) # transformed as np.array for CNN model"
      ],
      "metadata": {
        "id": "VYDJ5sxJ_ilc"
      },
      "execution_count": 14,
      "outputs": []
    },
    {
      "cell_type": "code",
      "source": [
        "# test dataset loading\n",
        "dataset = pd.read_excel('AMAP_test_alternative.xlsx',na_filter = False) # take care the NA sequence problem\n",
        "sequence_list = dataset['sequence'] \n",
        "\n",
        "embeddings_results = pd.DataFrame()\n",
        "# embedding all the peptide one by one\n",
        "for seq in sequence_list:\n",
        "    format_seq = [seq,seq] # the setting is just following the input format setting in ESM model, [name,sequence]\n",
        "    tuple_sequence = tuple(format_seq)\n",
        "    peptide_sequence_list = []\n",
        "    peptide_sequence_list.append(tuple_sequence) # build a summarize list variable including all the sequence information\n",
        "    # employ ESM model for converting and save the converted data in csv format\n",
        "    one_seq_embeddings = esm_embeddings(peptide_sequence_list)\n",
        "    embeddings_results= pd.concat([embeddings_results,one_seq_embeddings])\n",
        "\n",
        "embeddings_results.to_csv('AMAP_test_alternative_esm2_t6_8M_UR50D_unified_320_dimension.csv')\n",
        "\n",
        "# loading the y dataset for model development \n",
        "y_test = dataset['label_reverse']\n",
        "y_test = np.array(y_test) # transformed as np.array for CNN model"
      ],
      "metadata": {
        "id": "dH3XGmWJ_ifc"
      },
      "execution_count": 15,
      "outputs": []
    },
    {
      "cell_type": "code",
      "source": [
        "# assign the dataset \n",
        "X_train_data_name = 'AMAP_train_alternative_esm2_t6_8M_UR50D_unified_320_dimension.csv'\n",
        "X_train_data = pd.read_csv(X_train_data_name,header=0, index_col = 0,delimiter=',')\n",
        "\n",
        "X_test_data_name = 'AMAP_test_alternative_esm2_t6_8M_UR50D_unified_320_dimension.csv'\n",
        "X_test_data = pd.read_csv(X_test_data_name,header=0, index_col = 0,delimiter=',')\n",
        "\n",
        "X_train = np.array(X_train_data)\n",
        "X_test = np.array(X_test_data)\n",
        "\n",
        "# normalize the X data range\n",
        "from sklearn.preprocessing import MinMaxScaler\n",
        "scaler = MinMaxScaler()\n",
        "scaler.fit(X_train)\n",
        "X_train = scaler.transform(X_train) # normalize X to 0-1 range \n",
        "X_test = scaler.transform(X_test)"
      ],
      "metadata": {
        "id": "I_QVh1hA_ib4"
      },
      "execution_count": 16,
      "outputs": []
    },
    {
      "cell_type": "code",
      "source": [
        "# check the dimension of the dataset before model development\n",
        "print(X_train.shape)\n",
        "print(X_test.shape)\n",
        "print(y_train.shape)\n",
        "print(y_test.shape)\n",
        "print(np.count_nonzero(y_train==0))\n",
        "print(np.count_nonzero(y_train==1))\n",
        "print(np.count_nonzero(y_test==0))\n",
        "print(np.count_nonzero(y_test==1))"
      ],
      "metadata": {
        "colab": {
          "base_uri": "https://localhost:8080/"
        },
        "id": "mk831Klh_iXF",
        "outputId": "be0041cf-e3b4-4e04-c398-91dc46382f69"
      },
      "execution_count": 17,
      "outputs": [
        {
          "output_type": "stream",
          "name": "stdout",
          "text": [
            "(653, 320)\n",
            "(163, 320)\n",
            "(653,)\n",
            "(163,)\n",
            "542\n",
            "111\n",
            "135\n",
            "28\n"
          ]
        }
      ]
    },
    {
      "cell_type": "markdown",
      "source": [
        "### focal loss gunction for unbalanced dataset\n",
        "Notice: Focal loss function only focuse on the minority class, and assume positive group (label=1) as the minority group.\n",
        "In AMP dataset, the label 1 is positive, and label 0 is negative.\n",
        "for other dataset, please change the label for the claculation."
      ],
      "metadata": {
        "id": "HMv_UAMQeFC4"
      }
    },
    {
      "cell_type": "code",
      "source": [
        "!pip install focal-loss\n",
        "from focal_loss import BinaryFocalLoss \n",
        "from focal_loss import SparseCategoricalFocalLoss"
      ],
      "metadata": {
        "id": "hc-m1Og5eHHs"
      },
      "execution_count": null,
      "outputs": []
    },
    {
      "cell_type": "code",
      "source": [
        "def ESM_CNN(X_train, y_train, X_test, y_test):\n",
        "  from keras.layers import Input,InputLayer, Dense, Activation, ZeroPadding2D, BatchNormalization, Flatten, Conv2D,Conv1D\n",
        "  from keras.layers import AveragePooling2D, MaxPooling2D, Dropout, AveragePooling1D, MaxPooling1D\n",
        "  from keras.models import Sequential,Model\n",
        "  from keras.optimizers import SGD\n",
        "  from keras.callbacks import ModelCheckpoint,LearningRateScheduler, EarlyStopping\n",
        "  import keras\n",
        "  from keras import backend as K\n",
        "  inputShape=(320,1)\n",
        "  input = Input(inputShape)\n",
        "  x = Conv1D(128,(3),strides = (1),name='layer_conv1',padding='same')(input)\n",
        "  x = BatchNormalization()(x)\n",
        "  x = Activation('relu')(x)\n",
        "  x = MaxPooling1D((2), name='MaxPool1',padding=\"same\")(x)\n",
        "  x = Dropout(0.15)(x)\n",
        "  x = Conv1D(32,(3),strides = (1),name='layer_conv2',padding='same')(input)\n",
        "  x = BatchNormalization()(x)\n",
        "  x = Activation('relu')(x)\n",
        "  x = MaxPooling1D((2), name='MaxPool2',padding=\"same\")(x)\n",
        "  x = Dropout(0.15)(x)\n",
        "  x = Flatten()(x)\n",
        "  x = Dense(64,activation = 'relu',name='fc1')(x)\n",
        "  x = Dropout(0.15)(x)\n",
        "  x = Dense(1,activation = 'sigmoid',name='fc2')(x)\n",
        "  model = Model(inputs = input,outputs = x,name='Predict')\n",
        "  # define SGD optimizer\n",
        "  momentum = 0.5\n",
        "  sgd = SGD(lr=0.01, momentum=momentum, decay=0.0, nesterov=False)\n",
        "  # compile the model\n",
        "  model.compile(loss=BinaryFocalLoss(gamma=1),optimizer=sgd, metrics=['accuracy'])\n",
        "  # learning deccay setting\n",
        "  import math\n",
        "  def step_decay(epoch): # gradually decrease the learning rate \n",
        "      initial_lrate=0.1\n",
        "      drop=0.6\n",
        "      epochs_drop = 3.0\n",
        "      lrate= initial_lrate * math.pow(drop,    # math.pow base raised to a power\n",
        "            math.floor((1+epoch)/epochs_drop)) # math.floor Round numbers down to the nearest integer\n",
        "      return lrate\n",
        "  lrate = LearningRateScheduler(step_decay)\n",
        "\n",
        "  # early stop setting\n",
        "  early_stop = EarlyStopping(monitor='val_loss', patience = 40,restore_best_weights = True)\n",
        "\n",
        "  # summary the callbacks_list\n",
        "  callbacks_list = [ lrate , early_stop]\n",
        "\n",
        "  model_history = model.fit(X_train, y_train, validation_data=(X_test, y_test),\n",
        "                            epochs=200,callbacks=callbacks_list,batch_size = 16, verbose=1)\n",
        "  return model, model_history"
      ],
      "metadata": {
        "id": "mo-RiZYTeHCF"
      },
      "execution_count": 24,
      "outputs": []
    },
    {
      "cell_type": "code",
      "source": [
        "# result collection list\n",
        "ACC_collecton = []\n",
        "BACC_collecton = []\n",
        "Sn_collecton = []\n",
        "Sp_collecton = []\n",
        "MCC_collecton = []\n",
        "AUC_collecton = []\n",
        "model, model_history = ESM_CNN(X_train, y_train, X_test , y_test)\n",
        "# confusion matrix \n",
        "predicted_class= []\n",
        "predicted_protability = model.predict(X_test,batch_size=1)\n",
        "for i in range(predicted_protability.shape[0]):\n",
        "  if predicted_protability[i][0]>=0.5:\n",
        "    predicted_class.append(1)\n",
        "  else:\n",
        "    predicted_class.append(0)\n",
        "y_true = y_test    \n",
        "from sklearn.metrics import confusion_matrix\n",
        "import math\n",
        "# np.ravel() return a flatten 1D array\n",
        "TP, FP, FN, TN = confusion_matrix(y_true, predicted_class).ravel() # shape [ [True-Positive, False-positive], [False-negative, True-negative] ]\n",
        "ACC = (TP+TN)/(TP+TN+FP+FN)\n",
        "ACC_collecton.append(ACC)\n",
        "Sn_collecton.append(TP/(TP+FN))\n",
        "Sp_collecton.append(TN/(TN+FP))\n",
        "MCC = (TP*TN-FP*FN)/math.pow(((TP+FP)*(TP+FN)*(TN+FP)*(TN+FN)),0.5)\n",
        "MCC_collecton.append(MCC)\n",
        "BACC_collecton.append(0.5*TP/(TP+FN)+0.5*TN/(TN+FP))\n",
        "from sklearn.metrics import roc_auc_score\n",
        "AUC = roc_auc_score(y_test, predicted_protability[:,0])\n",
        "AUC_collecton.append(AUC)"
      ],
      "metadata": {
        "colab": {
          "base_uri": "https://localhost:8080/"
        },
        "id": "gNvjaI1OeMku",
        "outputId": "b9c6025b-fce3-420b-cb39-8608ad48b50b"
      },
      "execution_count": 25,
      "outputs": [
        {
          "output_type": "stream",
          "name": "stdout",
          "text": [
            "Epoch 1/200\n"
          ]
        },
        {
          "output_type": "stream",
          "name": "stderr",
          "text": [
            "/usr/local/lib/python3.8/dist-packages/keras/optimizers/optimizer_v2/gradient_descent.py:114: UserWarning: The `lr` argument is deprecated, use `learning_rate` instead.\n",
            "  super().__init__(name, **kwargs)\n"
          ]
        },
        {
          "output_type": "stream",
          "name": "stdout",
          "text": [
            "41/41 [==============================] - 4s 20ms/step - loss: 0.5085 - accuracy: 0.8499 - val_loss: 0.2911 - val_accuracy: 0.8282 - lr: 0.1000\n",
            "Epoch 2/200\n",
            "41/41 [==============================] - 1s 15ms/step - loss: 0.0985 - accuracy: 0.9311 - val_loss: 0.3030 - val_accuracy: 0.8282 - lr: 0.1000\n",
            "Epoch 3/200\n",
            "41/41 [==============================] - 1s 14ms/step - loss: 0.0623 - accuracy: 0.9602 - val_loss: 0.3023 - val_accuracy: 0.8282 - lr: 0.0600\n",
            "Epoch 4/200\n",
            "41/41 [==============================] - 1s 14ms/step - loss: 0.0527 - accuracy: 0.9648 - val_loss: 0.3002 - val_accuracy: 0.8282 - lr: 0.0600\n",
            "Epoch 5/200\n",
            "41/41 [==============================] - 1s 15ms/step - loss: 0.0430 - accuracy: 0.9617 - val_loss: 0.2911 - val_accuracy: 0.8282 - lr: 0.0600\n",
            "Epoch 6/200\n",
            "41/41 [==============================] - 1s 14ms/step - loss: 0.0302 - accuracy: 0.9832 - val_loss: 0.2762 - val_accuracy: 0.8466 - lr: 0.0360\n",
            "Epoch 7/200\n",
            "41/41 [==============================] - 1s 13ms/step - loss: 0.0311 - accuracy: 0.9786 - val_loss: 0.2492 - val_accuracy: 0.9202 - lr: 0.0360\n",
            "Epoch 8/200\n",
            "41/41 [==============================] - 1s 14ms/step - loss: 0.0254 - accuracy: 0.9832 - val_loss: 0.1987 - val_accuracy: 0.9387 - lr: 0.0360\n",
            "Epoch 9/200\n",
            "41/41 [==============================] - 1s 15ms/step - loss: 0.0217 - accuracy: 0.9847 - val_loss: 0.1593 - val_accuracy: 0.9755 - lr: 0.0216\n",
            "Epoch 10/200\n",
            "41/41 [==============================] - 1s 15ms/step - loss: 0.0195 - accuracy: 0.9847 - val_loss: 0.1089 - val_accuracy: 0.9755 - lr: 0.0216\n",
            "Epoch 11/200\n",
            "41/41 [==============================] - 1s 14ms/step - loss: 0.0181 - accuracy: 0.9862 - val_loss: 0.0803 - val_accuracy: 0.9877 - lr: 0.0216\n",
            "Epoch 12/200\n",
            "41/41 [==============================] - 1s 14ms/step - loss: 0.0196 - accuracy: 0.9877 - val_loss: 0.0547 - val_accuracy: 0.9816 - lr: 0.0130\n",
            "Epoch 13/200\n",
            "41/41 [==============================] - 1s 15ms/step - loss: 0.0166 - accuracy: 0.9862 - val_loss: 0.0445 - val_accuracy: 0.9816 - lr: 0.0130\n",
            "Epoch 14/200\n",
            "41/41 [==============================] - 1s 13ms/step - loss: 0.0192 - accuracy: 0.9847 - val_loss: 0.0439 - val_accuracy: 0.9816 - lr: 0.0130\n",
            "Epoch 15/200\n",
            "41/41 [==============================] - 1s 13ms/step - loss: 0.0168 - accuracy: 0.9893 - val_loss: 0.0433 - val_accuracy: 0.9877 - lr: 0.0078\n",
            "Epoch 16/200\n",
            "41/41 [==============================] - 1s 14ms/step - loss: 0.0141 - accuracy: 0.9908 - val_loss: 0.0441 - val_accuracy: 0.9877 - lr: 0.0078\n",
            "Epoch 17/200\n",
            "41/41 [==============================] - 1s 19ms/step - loss: 0.0152 - accuracy: 0.9923 - val_loss: 0.0463 - val_accuracy: 0.9816 - lr: 0.0078\n",
            "Epoch 18/200\n",
            "41/41 [==============================] - 2s 46ms/step - loss: 0.0176 - accuracy: 0.9877 - val_loss: 0.0497 - val_accuracy: 0.9877 - lr: 0.0047\n",
            "Epoch 19/200\n",
            "41/41 [==============================] - 1s 20ms/step - loss: 0.0141 - accuracy: 0.9893 - val_loss: 0.0509 - val_accuracy: 0.9816 - lr: 0.0047\n",
            "Epoch 20/200\n",
            "41/41 [==============================] - 1s 13ms/step - loss: 0.0132 - accuracy: 0.9923 - val_loss: 0.0524 - val_accuracy: 0.9816 - lr: 0.0047\n",
            "Epoch 21/200\n",
            "41/41 [==============================] - 1s 14ms/step - loss: 0.0123 - accuracy: 0.9939 - val_loss: 0.0530 - val_accuracy: 0.9816 - lr: 0.0028\n",
            "Epoch 22/200\n",
            "41/41 [==============================] - 1s 14ms/step - loss: 0.0120 - accuracy: 0.9939 - val_loss: 0.0540 - val_accuracy: 0.9816 - lr: 0.0028\n",
            "Epoch 23/200\n",
            "41/41 [==============================] - 1s 14ms/step - loss: 0.0140 - accuracy: 0.9877 - val_loss: 0.0538 - val_accuracy: 0.9816 - lr: 0.0028\n",
            "Epoch 24/200\n",
            "41/41 [==============================] - 1s 14ms/step - loss: 0.0148 - accuracy: 0.9862 - val_loss: 0.0539 - val_accuracy: 0.9816 - lr: 0.0017\n",
            "Epoch 25/200\n",
            "41/41 [==============================] - 1s 14ms/step - loss: 0.0155 - accuracy: 0.9923 - val_loss: 0.0540 - val_accuracy: 0.9755 - lr: 0.0017\n",
            "Epoch 26/200\n",
            "41/41 [==============================] - 1s 14ms/step - loss: 0.0160 - accuracy: 0.9923 - val_loss: 0.0541 - val_accuracy: 0.9816 - lr: 0.0017\n",
            "Epoch 27/200\n",
            "41/41 [==============================] - 1s 13ms/step - loss: 0.0149 - accuracy: 0.9893 - val_loss: 0.0539 - val_accuracy: 0.9816 - lr: 0.0010\n",
            "Epoch 28/200\n",
            "41/41 [==============================] - 1s 15ms/step - loss: 0.0145 - accuracy: 0.9877 - val_loss: 0.0542 - val_accuracy: 0.9816 - lr: 0.0010\n",
            "Epoch 29/200\n",
            "41/41 [==============================] - 1s 15ms/step - loss: 0.0133 - accuracy: 0.9893 - val_loss: 0.0545 - val_accuracy: 0.9816 - lr: 0.0010\n",
            "Epoch 30/200\n",
            "41/41 [==============================] - 1s 14ms/step - loss: 0.0111 - accuracy: 0.9923 - val_loss: 0.0545 - val_accuracy: 0.9816 - lr: 6.0466e-04\n",
            "Epoch 31/200\n",
            "41/41 [==============================] - 1s 14ms/step - loss: 0.0138 - accuracy: 0.9893 - val_loss: 0.0546 - val_accuracy: 0.9816 - lr: 6.0466e-04\n",
            "Epoch 32/200\n",
            "41/41 [==============================] - 1s 14ms/step - loss: 0.0159 - accuracy: 0.9923 - val_loss: 0.0546 - val_accuracy: 0.9816 - lr: 6.0466e-04\n",
            "Epoch 33/200\n",
            "41/41 [==============================] - 1s 15ms/step - loss: 0.0126 - accuracy: 0.9908 - val_loss: 0.0547 - val_accuracy: 0.9816 - lr: 3.6280e-04\n",
            "Epoch 34/200\n",
            "41/41 [==============================] - 1s 14ms/step - loss: 0.0109 - accuracy: 0.9923 - val_loss: 0.0548 - val_accuracy: 0.9816 - lr: 3.6280e-04\n",
            "Epoch 35/200\n",
            "41/41 [==============================] - 1s 13ms/step - loss: 0.0115 - accuracy: 0.9939 - val_loss: 0.0548 - val_accuracy: 0.9816 - lr: 3.6280e-04\n",
            "Epoch 36/200\n",
            "41/41 [==============================] - 1s 17ms/step - loss: 0.0125 - accuracy: 0.9954 - val_loss: 0.0549 - val_accuracy: 0.9816 - lr: 2.1768e-04\n",
            "Epoch 37/200\n",
            "41/41 [==============================] - 1s 22ms/step - loss: 0.0126 - accuracy: 0.9923 - val_loss: 0.0549 - val_accuracy: 0.9816 - lr: 2.1768e-04\n",
            "Epoch 38/200\n",
            "41/41 [==============================] - 1s 24ms/step - loss: 0.0126 - accuracy: 0.9908 - val_loss: 0.0549 - val_accuracy: 0.9816 - lr: 2.1768e-04\n",
            "Epoch 39/200\n",
            "41/41 [==============================] - 1s 22ms/step - loss: 0.0104 - accuracy: 0.9939 - val_loss: 0.0550 - val_accuracy: 0.9816 - lr: 1.3061e-04\n",
            "Epoch 40/200\n",
            "41/41 [==============================] - 1s 13ms/step - loss: 0.0112 - accuracy: 0.9923 - val_loss: 0.0550 - val_accuracy: 0.9816 - lr: 1.3061e-04\n",
            "Epoch 41/200\n",
            "41/41 [==============================] - 1s 26ms/step - loss: 0.0110 - accuracy: 0.9939 - val_loss: 0.0550 - val_accuracy: 0.9816 - lr: 1.3061e-04\n",
            "Epoch 42/200\n",
            "41/41 [==============================] - 1s 27ms/step - loss: 0.0139 - accuracy: 0.9939 - val_loss: 0.0550 - val_accuracy: 0.9816 - lr: 7.8364e-05\n",
            "Epoch 43/200\n",
            "41/41 [==============================] - 1s 30ms/step - loss: 0.0129 - accuracy: 0.9939 - val_loss: 0.0550 - val_accuracy: 0.9816 - lr: 7.8364e-05\n",
            "Epoch 44/200\n",
            "41/41 [==============================] - 1s 24ms/step - loss: 0.0123 - accuracy: 0.9877 - val_loss: 0.0550 - val_accuracy: 0.9816 - lr: 7.8364e-05\n",
            "Epoch 45/200\n",
            "41/41 [==============================] - 1s 31ms/step - loss: 0.0137 - accuracy: 0.9923 - val_loss: 0.0550 - val_accuracy: 0.9816 - lr: 4.7018e-05\n",
            "Epoch 46/200\n",
            "41/41 [==============================] - 1s 27ms/step - loss: 0.0127 - accuracy: 0.9893 - val_loss: 0.0550 - val_accuracy: 0.9816 - lr: 4.7018e-05\n",
            "Epoch 47/200\n",
            "41/41 [==============================] - 1s 29ms/step - loss: 0.0132 - accuracy: 0.9923 - val_loss: 0.0550 - val_accuracy: 0.9816 - lr: 4.7018e-05\n",
            "Epoch 48/200\n",
            "41/41 [==============================] - 1s 28ms/step - loss: 0.0105 - accuracy: 0.9939 - val_loss: 0.0550 - val_accuracy: 0.9816 - lr: 2.8211e-05\n",
            "Epoch 49/200\n",
            "41/41 [==============================] - 1s 37ms/step - loss: 0.0129 - accuracy: 0.9923 - val_loss: 0.0550 - val_accuracy: 0.9816 - lr: 2.8211e-05\n",
            "Epoch 50/200\n",
            "41/41 [==============================] - 2s 40ms/step - loss: 0.0122 - accuracy: 0.9923 - val_loss: 0.0550 - val_accuracy: 0.9816 - lr: 2.8211e-05\n",
            "Epoch 51/200\n",
            "41/41 [==============================] - 1s 30ms/step - loss: 0.0135 - accuracy: 0.9908 - val_loss: 0.0550 - val_accuracy: 0.9816 - lr: 1.6927e-05\n",
            "Epoch 52/200\n",
            "41/41 [==============================] - 1s 26ms/step - loss: 0.0127 - accuracy: 0.9908 - val_loss: 0.0550 - val_accuracy: 0.9816 - lr: 1.6927e-05\n",
            "Epoch 53/200\n",
            "41/41 [==============================] - 1s 29ms/step - loss: 0.0135 - accuracy: 0.9923 - val_loss: 0.0550 - val_accuracy: 0.9816 - lr: 1.6927e-05\n",
            "Epoch 54/200\n",
            "41/41 [==============================] - 1s 32ms/step - loss: 0.0127 - accuracy: 0.9877 - val_loss: 0.0550 - val_accuracy: 0.9816 - lr: 1.0156e-05\n",
            "Epoch 55/200\n",
            "41/41 [==============================] - 1s 32ms/step - loss: 0.0126 - accuracy: 0.9923 - val_loss: 0.0550 - val_accuracy: 0.9816 - lr: 1.0156e-05\n",
            "163/163 [==============================] - 0s 2ms/step\n"
          ]
        }
      ]
    },
    {
      "cell_type": "code",
      "source": [
        "print(ACC_collecton)\n",
        "print(BACC_collecton)\n",
        "print(Sn_collecton)\n",
        "print(Sp_collecton)\n",
        "print(MCC_collecton)\n",
        "print(AUC_collecton)"
      ],
      "metadata": {
        "colab": {
          "base_uri": "https://localhost:8080/"
        },
        "id": "Y0BfSEzueQIO",
        "outputId": "1cc4a580-9562-4a87-8eb0-a3e293b88413"
      },
      "execution_count": 26,
      "outputs": [
        {
          "output_type": "stream",
          "name": "stdout",
          "text": [
            "[0.9877300613496932]\n",
            "[0.9927007299270073]\n",
            "[0.9854014598540146]\n",
            "[1.0]\n",
            "[0.9565644992853402]\n",
            "[0.9867724867724867]\n"
          ]
        }
      ]
    },
    {
      "cell_type": "code",
      "source": [
        "model.save('FL-AMAP_alternative_tensorflow_model',save_format = 'tf') \n",
        "!zip -r /content/AMAP_alternative_tensorflow_model.zip /content/AMAP_alternative_tensorflow_model"
      ],
      "metadata": {
        "colab": {
          "base_uri": "https://localhost:8080/"
        },
        "id": "rDNAw5DCUDHT",
        "outputId": "df9f2625-6919-4349-f7b0-9b5097cfb196"
      },
      "execution_count": 27,
      "outputs": [
        {
          "output_type": "stream",
          "name": "stderr",
          "text": [
            "WARNING:absl:Found untraced functions such as _jit_compiled_convolution_op while saving (showing 1 of 1). These functions will not be directly callable after loading.\n"
          ]
        },
        {
          "output_type": "stream",
          "name": "stdout",
          "text": [
            "updating: content/AMAP_alternative_tensorflow_model/ (stored 0%)\n",
            "updating: content/AMAP_alternative_tensorflow_model/keras_metadata.pb (deflated 89%)\n",
            "updating: content/AMAP_alternative_tensorflow_model/saved_model.pb (deflated 89%)\n",
            "updating: content/AMAP_alternative_tensorflow_model/assets/ (stored 0%)\n",
            "updating: content/AMAP_alternative_tensorflow_model/fingerprint.pb (stored 0%)\n",
            "updating: content/AMAP_alternative_tensorflow_model/variables/ (stored 0%)\n",
            "updating: content/AMAP_alternative_tensorflow_model/variables/variables.index (deflated 64%)\n",
            "updating: content/AMAP_alternative_tensorflow_model/variables/variables.data-00000-of-00001 (deflated 26%)\n"
          ]
        }
      ]
    },
    {
      "cell_type": "code",
      "source": [],
      "metadata": {
        "id": "V26VKvKzg_XH"
      },
      "execution_count": null,
      "outputs": []
    }
  ]
}