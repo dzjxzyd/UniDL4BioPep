{
  "nbformat": 4,
  "nbformat_minor": 0,
  "metadata": {
    "colab": {
      "provenance": []
    },
    "kernelspec": {
      "name": "python3",
      "display_name": "Python 3"
    },
    "language_info": {
      "name": "python"
    }
  },
  "cells": [
    {
      "cell_type": "markdown",
      "source": [
        "### embedding"
      ],
      "metadata": {
        "id": "m91cA0H5w_eY"
      }
    },
    {
      "cell_type": "code",
      "source": [
        "!pip install fair-esm "
      ],
      "metadata": {
        "colab": {
          "base_uri": "https://localhost:8080/"
        },
        "id": "T2mOepdHxH_z",
        "outputId": "b7a63f8f-905c-45ef-d962-1ed9a0c68730"
      },
      "execution_count": 1,
      "outputs": [
        {
          "output_type": "stream",
          "name": "stdout",
          "text": [
            "Looking in indexes: https://pypi.org/simple, https://us-python.pkg.dev/colab-wheels/public/simple/\n",
            "Collecting fair-esm\n",
            "  Downloading fair_esm-2.0.0-py3-none-any.whl (93 kB)\n",
            "\u001b[K     |████████████████████████████████| 93 kB 1.2 MB/s \n",
            "\u001b[?25hInstalling collected packages: fair-esm\n",
            "Successfully installed fair-esm-2.0.0\n"
          ]
        }
      ]
    },
    {
      "cell_type": "code",
      "source": [
        "import numpy as np\n",
        "import torch\n",
        "import esm\n",
        "from esm import pretrained\n",
        "import pandas as pd\n",
        "import os\n",
        "import collections\n"
      ],
      "metadata": {
        "id": "n6NOFoREw-40"
      },
      "execution_count": 2,
      "outputs": []
    },
    {
      "cell_type": "code",
      "source": [
        "# dataset loading\n",
        "dataset = pd.read_excel('umami_test.xlsx')\n",
        "sequence_list = dataset['sequence']\n",
        "data = []\n",
        "for seq in sequence_list:\n",
        "    new_seq = [seq,seq]\n",
        "    fucking_tuple = tuple(new_seq)\n",
        "    data.append(fucking_tuple)\n",
        "print(data)\n",
        "\n",
        "y_test = dataset['label']\n",
        "y_test = np.array(y_test)"
      ],
      "metadata": {
        "colab": {
          "base_uri": "https://localhost:8080/"
        },
        "id": "U7jxoIsCw8dW",
        "outputId": "72feb778-338a-4990-d157-a6f01b47d93c"
      },
      "execution_count": 3,
      "outputs": [
        {
          "output_type": "stream",
          "name": "stdout",
          "text": [
            "[('APKHKEMPFPKYPVEPF', 'APKHKEMPFPKYPVEPF'), ('IA', 'IA'), ('AL', 'AL'), ('GW', 'GW'), ('VEL', 'VEL'), ('RPPFIV', 'RPPFIV'), ('AGNPDIEHPE', 'AGNPDIEHPE'), ('AEA', 'AEA'), ('RR', 'RR'), ('PFPP', 'PFPP'), ('QNDKIHPFAQTQSLVYPFGPIPNSLPQNIPPLTQTPVVV', 'QNDKIHPFAQTQSLVYPFGPIPNSLPQNIPPLTQTPVVV'), ('FI', 'FI'), ('PFPIIV', 'PFPIIV'), ('DGG', 'DGG'), ('WWW', 'WWW'), ('EDG', 'EDG'), ('EGF', 'EGF'), ('DEL', 'DEL'), ('FYPE', 'FYPE'), ('DED', 'DED'), ('IN', 'IN'), ('RGPPFIVGG', 'RGPPFIVGG'), ('WP', 'WP'), ('FFGG', 'FFGG'), ('VG', 'VG'), ('DLL', 'DLL'), ('EED', 'EED'), ('RPGF', 'RPGF'), ('VPPFLQ', 'VPPFLQ'), ('GPPFIV', 'GPPFIV'), ('NENLL', 'NENLL'), ('VVV', 'VVV'), ('FFF', 'FFF'), ('II', 'II'), ('PAQ', 'PAQ'), ('EF', 'EF'), ('TAY', 'TAY'), ('RGPPGFG', 'RGPPGFG'), ('PFPGPIPNS', 'PFPGPIPNS'), ('GI', 'GI'), ('GD', 'GD'), ('LEQLL', 'LEQLL'), ('GMIYPG', 'GMIYPG'), ('FFPG', 'FFPG'), ('NALEPDHRVE', 'NALEPDHRVE'), ('GGLG', 'GGLG'), ('DL', 'DL'), ('GLGGG', 'GLGGG'), ('FYPELFR', 'FYPELFR'), ('ID', 'ID'), ('VIIPFPG', 'VIIPFPG'), ('DV', 'DV'), ('WL', 'WL'), ('AAPY', 'AAPY'), ('RGPPGGF', 'RGPPGGF'), ('EAGIQ', 'EAGIQ'), ('FGFG', 'FGFG'), ('VIIPFPGR', 'VIIPFPGR'), ('PSE', 'PSE'), ('GGNP', 'GGNP'), ('FFRPFFRPFF', 'FFRPFFRPFF'), ('EV', 'EV'), ('QLFNPSTNPWH', 'QLFNPSTNPWH'), ('RF', 'RF'), ('RGPPFIVRGPPFIV', 'RGPPFIVRGPPFIV'), ('KP', 'KP'), ('PGG', 'PGG'), ('VYPFGGGINH', 'VYPFGGGINH'), ('RGGFIV', 'RGGFIV'), ('FFPE', 'FFPE'), ('VF', 'VF'), ('LGYLEQLL', 'LGYLEQLL'), ('TESSSE', 'TESSSE'), ('HV', 'HV'), ('EPE', 'EPE'), ('LYER', 'LYER'), ('RDMPIQAFLLY', 'RDMPIQAFLLY'), ('YQQPVLGPVRGPFPIIV', 'YQQPVLGPVRGPFPIIV'), ('CALTP', 'CALTP'), ('PGP', 'PGP'), ('LEQL', 'LEQL'), ('RGPKPIIV', 'RGPKPIIV'), ('SFE', 'SFE'), ('PR', 'PR'), ('LLG', 'LLG'), ('LE', 'LE'), ('RRPP', 'RRPP'), ('STMLLESER', 'STMLLESER'), ('PIP', 'PIP')]\n"
          ]
        }
      ]
    },
    {
      "cell_type": "code",
      "source": [],
      "metadata": {
        "id": "w8un5AjFAXWy"
      },
      "execution_count": null,
      "outputs": []
    },
    {
      "cell_type": "code",
      "source": [
        "# load the model\n",
        "model, alphabet = esm.pretrained.esm2_t6_8M_UR50D()\n",
        "batch_converter = alphabet.get_batch_converter()\n",
        "model.eval()  # disables dropout for deterministic results\n",
        "\n",
        "# prepare the sequence  information into the list\n",
        "batch_labels, batch_strs, batch_tokens = batch_converter(data) # convert the sequence as a batch\n",
        "batch_lens = (batch_tokens != alphabet.padding_idx).sum(1)\n",
        "## batch tokens are the embedding results of the whole data set\n",
        "\n",
        "# Extract per-residue representations (on CPU)\n",
        "with torch.no_grad():\n",
        "    results = model(batch_tokens, repr_layers=[6], return_contacts=True)  # here we must use the last layer for the embeddings export\n",
        "token_representations = results[\"representations\"][6]\n",
        "print(token_representations.shape)\n",
        "\n",
        "# Generate per-sequence representations via averaging\n",
        "# NOTE: token 0 is always a beginning-of-sequence token, so the first residue is token 1.\n",
        "sequence_representations = []\n",
        "for i, tokens_len in enumerate(batch_lens):\n",
        "    sequence_representations.append(token_representations[i, 1 : tokens_len - 1].mean(0))\n",
        "print(sequence_representations)\n",
        "\n",
        "# save dataset\n",
        "sequence_representations # is a list and each element is a tensor\n",
        "X = collections.defaultdict(list)\n",
        "for i in range(len(sequence_representations)):\n",
        "    # tensor can be transformed as numpy sequence_representations[0].numpy() or sequence_representations[0].to_list\n",
        "    each_seq_rep = sequence_representations[i].tolist()\n",
        "    for each_element in each_seq_rep:\n",
        "        X[i].append(each_element)\n",
        "\n",
        "X = pd.DataFrame(X).T\n",
        "X.to_csv('umami_test_esm2_t6_8M_UR50D_unified_320_dimension.csv')\n"
      ],
      "metadata": {
        "id": "g3YS_2IYxOfb"
      },
      "execution_count": null,
      "outputs": []
    },
    {
      "cell_type": "code",
      "source": [
        "# dataset loading\n",
        "dataset = pd.read_excel('umami_train.xlsx')\n",
        "sequence_list = dataset['sequence']\n",
        "data = []\n",
        "for seq in sequence_list:\n",
        "    new_seq = [seq,seq]\n",
        "    fucking_tuple = tuple(new_seq)\n",
        "    data.append(fucking_tuple)\n",
        "print(data)\n",
        "\n",
        "y_train = dataset['label']\n",
        "y_train = np.array(y_train)"
      ],
      "metadata": {
        "colab": {
          "base_uri": "https://localhost:8080/"
        },
        "id": "LNlD8pvizH84",
        "outputId": "2af387fd-f3e9-461d-ed08-fa7c8c006d6e"
      },
      "execution_count": 5,
      "outputs": [
        {
          "output_type": "stream",
          "name": "stdout",
          "text": [
            "[('VVYPWTQRF', 'VVYPWTQRF'), ('LDL', 'LDL'), ('KLHENIAR', 'KLHENIAR'), ('RGPFIV', 'RGPFIV'), ('QEEL', 'QEEL'), ('NALPE', 'NALPE'), ('KF', 'KF'), ('VDR', 'VDR'), ('RGPFPIIV', 'RGPFPIIV'), ('VVGET', 'VVGET'), ('ET', 'ET'), ('IF', 'IF'), ('LL', 'LL'), ('CCNKSV', 'CCNKSV'), ('PVARMCR', 'PVARMCR'), ('DA', 'DA'), ('GR', 'GR'), ('VV', 'VV'), ('IK', 'IK'), ('YQQPVLGPVRGPFPI', 'YQQPVLGPVRGPFPI'), ('AYFYPEL', 'AYFYPEL'), ('GDG', 'GDG'), ('DDD', 'DDD'), ('AE', 'AE'), ('GNPDIEHP', 'GNPDIEHP'), ('EQPQQNE', 'EQPQQNE'), ('RGPPGGGFF', 'RGPPGGGFF'), ('YP', 'YP'), ('FALPQYLK', 'FALPQYLK'), ('VPLGTQYTDAPSF', 'VPLGTQYTDAPSF'), ('GGRGPPFIVGG', 'GGRGPPFIVGG'), ('AHSVRFY', 'AHSVRFY'), ('ANPGPVRDLR', 'ANPGPVRDLR'), ('PVLGPVRGPFPIIV', 'PVLGPVRGPFPIIV'), ('GLG', 'GLG'), ('RPFF', 'RPFF'), ('VYPFPPGI', 'VYPFPPGI'), ('NGKET', 'NGKET'), ('RGPPFF', 'RGPPFF'), ('GGFF', 'GGFF'), ('FFPR', 'FFPR'), ('QVAIAHRDAK', 'QVAIAHRDAK'), ('EK', 'EK'), ('PE', 'PE'), ('RKE', 'RKE'), ('EQQQQ', 'EQQQQ'), ('FPK', 'FPK'), ('DG', 'DG'), ('QLFGPNVNPWHNP', 'QLFGPNVNPWHNP'), ('RGENESEEEGAIVT', 'RGENESEEEGAIVT'), ('LGAGGSLA', 'LGAGGSLA'), ('DD', 'DD'), ('GPG', 'GPG'), ('VEV', 'VEV'), ('MAPKHKEMPFPKYPVEPF', 'MAPKHKEMPFPKYPVEPF'), ('LVG', 'LVG'), ('GGGLG', 'GGGLG'), ('RPNPFENR', 'RPNPFENR'), ('EE', 'EE'), ('QLFNPSTNPWHSP', 'QLFNPSTNPWHSP'), ('GV', 'GV'), ('SAEFG', 'SAEFG'), ('SL', 'SL'), ('VAV', 'VAV'), ('FLL', 'FLL'), ('QDKIHPFAQTQSLVYPFPGP', 'QDKIHPFAQTQSLVYPFPGP'), ('GLY', 'GLY'), ('AD', 'AD'), ('GFF', 'GFF'), ('ENINEL', 'ENINEL'), ('VLPTDQNFILR', 'VLPTDQNFILR'), ('VI', 'VI'), ('EDF', 'EDF'), ('RRPPFF', 'RRPPFF'), ('EA', 'EA'), ('ENE', 'ENE'), ('EEDGK', 'EEDGK'), ('RGPPGGFF', 'RGPPGGFF'), ('AQALQAQA', 'AQALQAQA'), ('EPAD', 'EPAD'), ('AV', 'AV'), ('GGRPFF', 'GGRPFF'), ('VGG', 'VGG'), ('LRL', 'LRL'), ('IQ', 'IQ'), ('RRPPPFFF', 'RRPPPFFF'), ('RPFFRPFFRPFF', 'RPFFRPFFRPFF'), ('GRP', 'GRP'), ('EQGGEQG', 'EQGGEQG'), ('RP', 'RP'), ('LW', 'LW'), ('LA', 'LA'), ('VDV', 'VDV'), ('DES', 'DES'), ('YLGYLEQLLR', 'YLGYLEQLLR'), ('RGPPFIIV', 'RGPPFIIV'), ('PVLGPV', 'PVLGPV'), ('YGY', 'YGY'), ('QPVLGPVRGPFPIIV', 'QPVLGPVRGPFPIIV'), ('RGPPFGG', 'RGPPFGG'), ('FG', 'FG'), ('YGGTPPFV', 'YGGTPPFV'), ('VD', 'VD'), ('RPGGFF', 'RPGGFF'), ('LF', 'LF'), ('KGDEESLA', 'KGDEESLA'), ('GPPF', 'GPPF'), ('YQEPVLGPVRGPFPI', 'YQEPVLGPVRGPFPI'), ('RGPFPIV', 'RGPFPIV'), ('YG', 'YG'), ('GP', 'GP'), ('GLL', 'GLL'), ('DY', 'DY'), ('SEE', 'SEE'), ('LGG', 'LGG'), ('NNP', 'NNP'), ('GYY', 'GYY'), ('ASNMSDL', 'ASNMSDL'), ('VVVPPFLQP', 'VVVPPFLQP'), ('NRTF', 'NRTF'), ('FW', 'FW'), ('LG', 'LG'), ('IGTLAGA', 'IGTLAGA'), ('LSERYP', 'LSERYP'), ('VIPFPGR', 'VIPFPGR'), ('PA', 'PA'), ('VYPFPPG', 'VYPFPPG'), ('RGPPFIV', 'RGPPFIV'), ('GGRGPPFIV', 'GGRGPPFIV'), ('EEN', 'EEN'), ('LPEEV', 'LPEEV'), ('QNDKIHPFAQTQSLVYPFGPIP', 'QNDKIHPFAQTQSLVYPFGPIP'), ('YEGNS', 'YEGNS'), ('SE', 'SE'), ('GGY', 'GGY'), ('SSRNEQSR', 'SSRNEQSR'), ('EP', 'EP'), ('YPFPGPIHNS', 'YPFPGPIHNS'), ('VPY', 'VPY'), ('AQTQSLVYPFPGPIPNSLPQNIPPLTQ', 'AQTQSLVYPFPGPIPNSLPQNIPPLTQ'), ('FPF', 'FPF'), ('VPPFLE', 'VPPFLE'), ('EINEL', 'EINEL'), ('PPFIV', 'PPFIV'), ('EL', 'EL'), ('EDD', 'EDD'), ('VY', 'VY'), ('KPPFIV', 'KPPFIV'), ('APK', 'APK'), ('PGPIP', 'PGPIP'), ('DE', 'DE'), ('PL', 'PL'), ('RRR', 'RRR'), ('QL', 'QL'), ('RRPFF', 'RRPFF'), ('GGV', 'GGV'), ('PVRGPFPIIV', 'PVRGPFPIIV'), ('WE', 'WE'), ('VYPFPPGIGG', 'VYPFPPGIGG'), ('GGF', 'GGF'), ('GGGGL', 'GGGGL'), ('IE', 'IE'), ('SLA', 'SLA'), ('EDE', 'EDE'), ('KPF', 'KPF'), ('RGPPGGV', 'RGPPGGV'), ('FYPELF', 'FYPELF'), ('GLLPDGTPR', 'GLLPDGTPR'), ('TE', 'TE'), ('GVV', 'GVV'), ('LD', 'LD'), ('ALEPDHR', 'ALEPDHR'), ('YQEPVLGPVRGPFPIIV', 'YQEPVLGPVRGPFPIIV'), ('RGFF', 'RGFF'), ('IL', 'IL'), ('IT', 'IT'), ('PI', 'PI'), ('SAEQK', 'SAEQK'), ('QLFNPS', 'QLFNPS'), ('YPFPGPI', 'YPFPGPI'), ('FGF', 'FGF'), ('NNEDT', 'NNEDT'), ('VA', 'VA'), ('PGPGPG', 'PGPGPG'), ('YF', 'YF'), ('PPF', 'PPF'), ('WW', 'WW'), ('GPFPVI', 'GPFPVI'), ('QQPVLGPVRGPFPI', 'QQPVLGPVRGPFPI'), ('SLADEEKG', 'SLADEEKG'), ('GY', 'GY'), ('RPGFF', 'RPGFF'), ('EEL', 'EEL'), ('PFPGPI', 'PFPGPI'), ('PPG', 'PPG'), ('RGPPFI', 'RGPPFI'), ('GGRPFFGG', 'GGRPFFGG'), ('PG', 'PG'), ('PDKPNT', 'PDKPNT'), ('EGSEAPDGSSR', 'EGSEAPDGSSR'), ('YY', 'YY'), ('RPFFRPFF', 'RPFFRPFF'), ('SPE', 'SPE'), ('AF', 'AF'), ('YYY', 'YYY'), ('VIFPPGR', 'VIFPPGR'), ('EI', 'EI'), ('NFNNQLDQQTPR', 'NFNNQLDQQTPR'), ('APFPEVF', 'APFPEVF'), ('ADA', 'ADA'), ('FGGF', 'FGGF'), ('GGLGG', 'GGLGG'), ('PP', 'PP'), ('RGPPGF', 'RGPPGF'), ('VIF', 'VIF'), ('YLEQLLR', 'YLEQLLR'), ('EDV', 'EDV'), ('DQR', 'DQR'), ('EGG', 'EGG'), ('RPLGNC', 'RPLGNC'), ('FV', 'FV'), ('IG', 'IG'), ('PGI', 'PGI'), ('SF', 'SF'), ('GLGG', 'GLGG'), ('LRP', 'LRP'), ('SLAKGDEE', 'SLAKGDEE'), ('VL', 'VL'), ('YQQPVLGPVRGPFPII', 'YQQPVLGPVRGPFPII'), ('RPF', 'RPF'), ('ELL', 'ELL'), ('EY', 'EY'), ('PFIV', 'PFIV'), ('RGPEPIIV', 'RGPEPIIV'), ('GGP', 'GGP'), ('NY', 'NY'), ('DPQ', 'DPQ'), ('WF', 'WF'), ('EQE', 'EQE'), ('LLLL', 'LLLL'), ('FFPP', 'FFPP'), ('RGP', 'RGP'), ('EEEQ', 'EEEQ'), ('LV', 'LV'), ('EG', 'EG'), ('RGENESDEQGAIVT', 'RGENESDEQGAIVT'), ('GPVRGPFPIIV', 'GPVRGPFPIIV'), ('ES', 'ES'), ('FPPFIV', 'FPPFIV'), ('LGGGG', 'LGGGG'), ('EVLN', 'EVLN'), ('HCHTN', 'HCHTN'), ('TDVENLHLPPLL', 'TDVENLHLPPLL'), ('VYP', 'VYP'), ('YL', 'YL'), ('RPPPFFF', 'RPPPFFF'), ('NLQG', 'NLQG'), ('LY', 'LY'), ('GL', 'GL'), ('KGRYER', 'KGRYER'), ('FFPGG', 'FFPGG'), ('RGPPGFF', 'RGPPGFF'), ('GGFFGG', 'GGFFGG'), ('QLFNPSTNPWH', 'QLFNPSTNPWH'), ('RGPPGIG', 'RGPPGIG'), ('QLFNPSTNP', 'QLFNPSTNP'), ('GGVVV', 'GGVVV'), ('GPFF', 'GPFF'), ('YYG', 'YYG'), ('LGGG', 'LGGG'), ('YPF', 'YPF'), ('GCG', 'GCG'), ('PK', 'PK'), ('PGR', 'PGR'), ('PAA', 'PAA'), ('RGPPF', 'RGPPF'), ('ADE', 'ADE'), ('RL', 'RL'), ('DDDD', 'DDDD'), ('QLFNPSTNPWHSP', 'QLFNPSTNPWHSP'), ('FP', 'FP'), ('RGPGPIIV', 'RGPGPIIV'), ('FL', 'FL'), ('VTADESQQDVLK', 'VTADESQQDVLK'), ('LGL', 'LGL'), ('FFG', 'FFG'), ('FF', 'FF'), ('LAGNQEEE', 'LAGNQEEE'), ('ED', 'ED'), ('GE', 'GE'), ('GPFPIIV', 'GPFPIIV'), ('EEE', 'EEE'), ('IW', 'IW'), ('CM', 'CM'), ('VRSY', 'VRSY'), ('PFP', 'PFP'), ('EGS', 'EGS'), ('RGPPFFF', 'RGPPFFF'), ('GFG', 'GFG'), ('VYPF', 'VYPF'), ('IS', 'IS'), ('FPP', 'FPP'), ('GKHQQEEENEGG', 'GKHQQEEENEGG'), ('KAVPYPPQ', 'KAVPYPPQ'), ('KGSLADEE', 'KGSLADEE'), ('PY', 'PY'), ('RPFFGG', 'RPFFGG'), ('NVVGET', 'NVVGET'), ('GEG', 'GEG'), ('VE', 'VE'), ('LI', 'LI'), ('FFVAPFPEVFGK', 'FFVAPFPEVFGK'), ('MPFPKYPVEPF', 'MPFPKYPVEPF'), ('KPK', 'KPK'), ('LVYPFPGPIHN', 'LVYPFPGPIHN'), ('QLFGPNVNPWHNP', 'QLFGPNVNPWHNP'), ('VYPFPPGINH', 'VYPFPPGINH'), ('RPG', 'RPG'), ('RRPPGF', 'RRPPGF'), ('IV', 'IV'), ('VVVPPFL', 'VVVPPFL'), ('LLL', 'LLL'), ('IP', 'IP'), ('DDE', 'DDE'), ('APFPEVFG', 'APFPEVFG'), ('RPKHPIKHQ', 'RPKHPIKHQ'), ('INEL', 'INEL'), ('VIFPPG', 'VIFPPG'), ('PF', 'PF'), ('PPP', 'PPP'), ('FIV', 'FIV'), ('GGL', 'GGL'), ('VYPFPPIGNH', 'VYPFPPIGNH'), ('GF', 'GF'), ('KG', 'KG'), ('QSKVLPVPQ', 'QSKVLPVPQ'), ('LQPLNAH', 'LQPLNAH'), ('PET', 'PET'), ('FY', 'FY'), ('GYG', 'GYG'), ('TLRRCM', 'TLRRCM'), ('PFPGPIP', 'PFPGPIP'), ('DEE', 'DEE'), ('GGGL', 'GGGL'), ('RG', 'RG'), ('EQEEL', 'EQEEL'), ('FGG', 'FGG'), ('YGG', 'YGG'), ('GPFPII', 'GPFPII'), ('RPFG', 'RPFG'), ('ALPEEV', 'ALPEEV'), ('KGNEESLA', 'KGNEESLA'), ('EN', 'EN')]\n"
          ]
        }
      ]
    },
    {
      "cell_type": "code",
      "source": [],
      "metadata": {
        "id": "VlXbR52-zB75"
      },
      "execution_count": null,
      "outputs": []
    },
    {
      "cell_type": "code",
      "source": [
        "# load the model\n",
        "model, alphabet = esm.pretrained.esm2_t6_8M_UR50D()\n",
        "batch_converter = alphabet.get_batch_converter()\n",
        "model.eval()  # disables dropout for deterministic results\n",
        "\n",
        "# prepare the sequence  information into the list\n",
        "batch_labels, batch_strs, batch_tokens = batch_converter(data) # convert the sequence as a batch\n",
        "batch_lens = (batch_tokens != alphabet.padding_idx).sum(1)\n",
        "## batch tokens are the embedding results of the whole data set\n",
        "\n",
        "# Extract per-residue representations (on CPU)\n",
        "with torch.no_grad():\n",
        "    results = model(batch_tokens, repr_layers=[6], return_contacts=True)  # here we must use the last layer for the embeddings export\n",
        "token_representations = results[\"representations\"][6]\n",
        "print(token_representations.shape)\n",
        "\n",
        "# Generate per-sequence representations via averaging\n",
        "# NOTE: token 0 is always a beginning-of-sequence token, so the first residue is token 1.\n",
        "sequence_representations = []\n",
        "for i, tokens_len in enumerate(batch_lens):\n",
        "    sequence_representations.append(token_representations[i, 1 : tokens_len - 1].mean(0))\n",
        "print(sequence_representations)\n",
        "\n",
        "# save dataset\n",
        "sequence_representations # is a list and each element is a tensor\n",
        "X = collections.defaultdict(list)\n",
        "for i in range(len(sequence_representations)):\n",
        "    # tensor can be transformed as numpy sequence_representations[0].numpy() or sequence_representations[0].to_list\n",
        "    each_seq_rep = sequence_representations[i].tolist()\n",
        "    for each_element in each_seq_rep:\n",
        "        X[i].append(each_element)\n",
        "\n",
        "X = pd.DataFrame(X).T\n",
        "X.to_csv('umami_train_esm2_t6_8M_UR50D_unified_320_dimension.csv')\n"
      ],
      "metadata": {
        "id": "la-ykKZIxVdO"
      },
      "execution_count": null,
      "outputs": []
    },
    {
      "cell_type": "markdown",
      "source": [
        "# build model"
      ],
      "metadata": {
        "id": "U3Fagh9Iw83q"
      }
    },
    {
      "cell_type": "code",
      "execution_count": 7,
      "metadata": {
        "id": "40voX66olE2A"
      },
      "outputs": [],
      "source": [
        "import numpy as np\n",
        "import pandas as pd\n",
        "from sklearn.model_selection import train_test_split"
      ]
    },
    {
      "cell_type": "code",
      "source": [
        "# read embeded files\n",
        "X_train_data_name = 'umami_train_esm2_t6_8M_UR50D_unified_320_dimension.csv'\n",
        "X_train_data = pd.read_csv(X_train_data_name,header=0, index_col = 0,delimiter=',')\n",
        "\n",
        "X_test_data_name = 'umami_test_esm2_t6_8M_UR50D_unified_320_dimension.csv'\n",
        "X_test_data = pd.read_csv(X_test_data_name,header=0, index_col = 0,delimiter=',')\n",
        "\n",
        "X_train = np.array(X_train_data)\n",
        "X_test = np.array(X_test_data)\n",
        "\n",
        "from sklearn.preprocessing import MinMaxScaler\n",
        "scaler = MinMaxScaler()\n",
        "scaler.fit(X_train)\n",
        "X_train = scaler.transform(X_train) # normalize X to 0-1 range \n",
        "X_test = scaler.transform(X_test)"
      ],
      "metadata": {
        "id": "Xk13-JbBXAph"
      },
      "execution_count": 8,
      "outputs": []
    },
    {
      "cell_type": "code",
      "source": [
        "print(X_train.shape)\n",
        "print(X_test.shape)\n",
        "print(y_train.shape)\n",
        "print(y_test.shape)"
      ],
      "metadata": {
        "colab": {
          "base_uri": "https://localhost:8080/"
        },
        "id": "HubTATKXslKw",
        "outputId": "b149c129-cbb7-4cc6-817b-0059fdfb3fd1"
      },
      "execution_count": 9,
      "outputs": [
        {
          "output_type": "stream",
          "name": "stdout",
          "text": [
            "(353, 320)\n",
            "(89, 320)\n",
            "(353,)\n",
            "(89,)\n"
          ]
        }
      ]
    },
    {
      "cell_type": "markdown",
      "source": [
        "# AnOxPePred architecture for one-hot"
      ],
      "metadata": {
        "id": "KbPMT1JmOZwf"
      }
    },
    {
      "cell_type": "code",
      "source": [
        "from keras.layers import Input,InputLayer, Dense, Activation, ZeroPadding2D, BatchNormalization, Flatten, Conv2D,Conv1D\n",
        "from keras.layers import AveragePooling2D, MaxPooling2D, Dropout, AveragePooling1D, MaxPooling1D\n",
        "from keras.models import Sequential,Model\n",
        "from keras.optimizers import SGD\n",
        "from keras.callbacks import ModelCheckpoint,LearningRateScheduler\n",
        "import keras\n",
        "from keras import backend as K"
      ],
      "metadata": {
        "id": "wwhfCTyeZCUV"
      },
      "execution_count": 10,
      "outputs": []
    },
    {
      "cell_type": "markdown",
      "source": [
        "# loop test for best performance"
      ],
      "metadata": {
        "id": "uBryC5XF6Jx5"
      }
    },
    {
      "cell_type": "code",
      "source": [
        "# from sklearn.model_selection import train_test_split\n",
        "# X_train,X_valid,y_train,y_valid = train_test_split(X_train, y_train,  test_size = 0.2, shuffle= True, stratify=y, \\n\",\n",
        "#        \"                                                 random_state = 1)"
      ],
      "metadata": {
        "id": "N_avnpWc6zGm"
      },
      "execution_count": null,
      "outputs": []
    },
    {
      "cell_type": "code",
      "source": [
        "filter_1 = \n",
        "filter_2 = \n",
        "kernel_size_1 = \n",
        "stride = \n"
      ],
      "metadata": {
        "id": "2W0X9VP77TS3"
      },
      "execution_count": null,
      "outputs": []
    },
    {
      "cell_type": "code",
      "source": [
        "inputShape=(320,1)\n",
        "input = Input(inputShape)\n",
        "x = Conv1D(128,(2),strides = (1),name='layer_conv1',padding='same')(input)\n",
        "x = BatchNormalization()(x)\n",
        "x = Activation('relu')(x)\n",
        "x = MaxPooling1D((2), name='MaxPool1',padding=\"same\")(x)\n",
        "x = Dropout(0.15)(x)\n",
        "x = Conv1D(32,(2),strides = (1),name='layer_conv2',padding='same')(input)\n",
        "x = BatchNormalization()(x)\n",
        "x = Activation('relu')(x)\n",
        "x = MaxPooling1D((2), name='MaxPool2',padding=\"same\")(x)\n",
        "x = Dropout(0.15)(x)\n",
        "x = Flatten()(x)\n",
        "x = Dense(64,activation = 'relu',name='fc0')(x)\n",
        "x = Dropout(0.15)(x)\n",
        "x = Dense(2,activation = 'softmax',name='fc2')(x)\n",
        "model = Model(inputs = input,outputs = x,name='Predict')\n",
        "# define SGD optimizer\n",
        "momentum = 0.5\n",
        "sgd = SGD(lr=0.01, momentum=momentum, decay=0.0, nesterov=False)\n",
        "# compile the model\n",
        "model.compile(loss='sparse_categorical_crossentropy',optimizer=sgd, metrics=['accuracy'])\n",
        "import math\n",
        "def step_decay(epoch):\n",
        "    initial_lrate=0.1\n",
        "    drop=0.6\n",
        "    epochs_drop = 3.0\n",
        "    lrate= initial_lrate * math.pow(drop,\n",
        "           math.floor((1+epoch)/epochs_drop))\n",
        "    return lrate\n",
        "lrate = LearningRateScheduler(step_decay)\n",
        "callbacks_list = [ lrate]\n",
        "\n",
        "history=model.fit(X_train, y_train, validation_data=(X_test, y_test),\n",
        "                          epochs=100,callbacks=callbacks_list,batch_size = 8, verbose=1)"
      ],
      "metadata": {
        "id": "pmt4cg1C6FXN"
      },
      "execution_count": 11,
      "outputs": []
    },
    {
      "cell_type": "code",
      "source": [
        "model.summary() # show the model structure "
      ],
      "metadata": {
        "id": "QvQOc_kvYp0F"
      },
      "execution_count": null,
      "outputs": []
    },
    {
      "cell_type": "code",
      "source": [
        "# confusion matrix \n",
        "predicted_class= []\n",
        "predicted_protability = model.predict(X_test,batch_size=1)\n",
        "for i in range(predicted_protability.shape[0]):\n",
        "  index = np.where(predicted_protability[i] == np.amax(predicted_protability[i]))[0][0]\n",
        "  predicted_class.append(index)\n",
        "predicted_class = np.array(predicted_class)      \n",
        "\n",
        "y_true = y_test\n",
        "import matplotlib.pyplot as plt\n",
        "import seaborn as sns\n",
        "from sklearn.metrics import confusion_matrix\n",
        "cm = confusion_matrix(y_true, predicted_class)\n",
        "plt.figure(figsize = (25, 25))\n",
        "sns.heatmap(cm, annot = True)"
      ],
      "metadata": {
        "id": "Wn4dp6aLDbCu"
      },
      "execution_count": null,
      "outputs": []
    },
    {
      "cell_type": "code",
      "source": [
        "predicted_protability = model.predict(X_test,batch_size=1)"
      ],
      "metadata": {
        "id": "hNcEeLs9Idw3"
      },
      "execution_count": null,
      "outputs": []
    },
    {
      "cell_type": "code",
      "source": [
        "predicted_protability[1]"
      ],
      "metadata": {
        "colab": {
          "base_uri": "https://localhost:8080/"
        },
        "id": "wiXN2uYvBfE4",
        "outputId": "a03daa0a-9615-444d-aaaf-e4ed34d8d225"
      },
      "execution_count": null,
      "outputs": [
        {
          "output_type": "execute_result",
          "data": {
            "text/plain": [
              "array([0.677774  , 0.32222596], dtype=float32)"
            ]
          },
          "metadata": {},
          "execution_count": 49
        }
      ]
    },
    {
      "cell_type": "code",
      "source": [
        "model.evaluate(X_test, y_test)"
      ],
      "metadata": {
        "id": "D-WrDcBBZNBT",
        "colab": {
          "base_uri": "https://localhost:8080/"
        },
        "outputId": "24ecfbfa-d3df-4df1-a301-149745df7597"
      },
      "execution_count": null,
      "outputs": [
        {
          "output_type": "stream",
          "name": "stdout",
          "text": [
            "9/9 [==============================] - 0s 8ms/step - loss: 0.6965 - accuracy: 0.6494\n"
          ]
        },
        {
          "output_type": "execute_result",
          "data": {
            "text/plain": [
              "[0.6964783668518066, 0.6494464874267578]"
            ]
          },
          "metadata": {},
          "execution_count": 34
        }
      ]
    },
    {
      "cell_type": "code",
      "source": [
        "np.amax(predicted_protability[1], axis=None)"
      ],
      "metadata": {
        "colab": {
          "base_uri": "https://localhost:8080/"
        },
        "id": "9U3Paj7aYwfm",
        "outputId": "ab2a6df4-de26-4f3b-9acf-66800ecb6df7"
      },
      "execution_count": null,
      "outputs": [
        {
          "output_type": "execute_result",
          "data": {
            "text/plain": [
              "0.677774"
            ]
          },
          "metadata": {},
          "execution_count": 47
        }
      ]
    },
    {
      "cell_type": "markdown",
      "source": [
        "# graph drawing"
      ],
      "metadata": {
        "id": "PLuYmAF6333f"
      }
    },
    {
      "cell_type": "code",
      "source": [],
      "metadata": {
        "id": "0nP4WTwM33LG"
      },
      "execution_count": null,
      "outputs": []
    },
    {
      "cell_type": "code",
      "source": [
        "import matplotlib.pyplot as plt\n",
        "loss = history.history['loss']\n",
        "val_loss = history.history['val_loss']\n",
        "epochs = range(1, len(loss) + 1)\n",
        "plt.plot(epochs, loss, color='red', label='Training loss')\n",
        "plt.plot(epochs, val_loss, color='green', label='Validation loss')\n",
        "plt.title('Training and validation loss')\n",
        "plt.xlabel('Epochs')\n",
        "plt.ylabel('Loss')\n",
        "plt.legend()\n",
        "plt.show()"
      ],
      "metadata": {
        "id": "VWoCcl_isc1B",
        "colab": {
          "base_uri": "https://localhost:8080/",
          "height": 295
        },
        "outputId": "205d59b3-2370-4a76-df01-768b2b27a4cf"
      },
      "execution_count": 14,
      "outputs": [
        {
          "output_type": "display_data",
          "data": {
            "text/plain": [
              "<Figure size 432x288 with 1 Axes>"
            ],
            "image/png": "[encoded data removed]"
          },
          "metadata": {
            "needs_background": "light"
          }
        }
      ]
    },
    {
      "cell_type": "code",
      "source": [
        "acc = history.history['accuracy']\n",
        "val_acc = history.history['val_accuracy']\n",
        "plt.plot(epochs, acc, color='red', label='Training acc')\n",
        "plt.plot(epochs, val_acc, color='green', label='Validation acc')\n",
        "plt.title('Training and validation accuracy')\n",
        "plt.xlabel('Epochs')\n",
        "plt.ylabel('Loss')\n",
        "plt.legend()\n",
        "plt.show()"
      ],
      "metadata": {
        "id": "lSxurMqD_HmE",
        "colab": {
          "base_uri": "https://localhost:8080/",
          "height": 295
        },
        "outputId": "9eeee4ac-1391-4244-b55a-4f4c9cbf9234"
      },
      "execution_count": 15,
      "outputs": [
        {
          "output_type": "display_data",
          "data": {
            "text/plain": [
              "<Figure size 432x288 with 1 Axes>"
            ],
            "image/png": "[encoded data removed]"
          },
          "metadata": {
            "needs_background": "light"
          }
        }
      ]
    },
    {
      "cell_type": "code",
      "source": [
        "print(\"on valid data\")\n",
        "pred1=model.evaluate(X_valid,Y_valid)\n",
        "print(\"accuaracy\", str(pred1[1]*100))\n",
        "print(\"Total loss\",str(pred1[0]*100))"
      ],
      "metadata": {
        "id": "auQGqcGA_JbW"
      },
      "execution_count": null,
      "outputs": []
    },
    {
      "cell_type": "code",
      "source": [
        "from keras.models import Model\n",
        "layer_outputs = [layer.output for layer in model.layers]\n",
        "activation_model = Model(inputs=model.input, outputs=layer_outputs)\n",
        "activations = activation_model.predict(X_train[10].reshape(1,28,28,1))\n",
        " \n",
        "def display_activation(activations, col_size, row_size, act_index): \n",
        "    activation = activations[act_index]\n",
        "    activation_index=0\n",
        "    fig, ax = plt.subplots(row_size, col_size, figsize=(row_size*2.5,col_size*1.5))\n",
        "    for row in range(0,row_size):\n",
        "        for col in range(0,col_size):\n",
        "            ax[row][col].imshow(activation[0, :, :, activation_index], cmap='gray')\n",
        "            activation_index += 1"
      ],
      "metadata": {
        "id": "eQTYap8Pynny"
      },
      "execution_count": null,
      "outputs": []
    }
  ]
}